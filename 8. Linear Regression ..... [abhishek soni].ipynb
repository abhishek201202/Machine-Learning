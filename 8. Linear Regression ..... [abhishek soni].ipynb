{
 "cells": [
  {
   "cell_type": "markdown",
   "metadata": {},
   "source": [
    "# 1) Load data from the text file"
   ]
  },
  {
   "cell_type": "code",
   "execution_count": 1,
   "metadata": {},
   "outputs": [],
   "source": [
    "import numpy as np"
   ]
  },
  {
   "cell_type": "code",
   "execution_count": 2,
   "metadata": {},
   "outputs": [
    {
     "data": {
      "text/plain": [
       "numpy.ndarray"
      ]
     },
     "execution_count": 2,
     "metadata": {},
     "output_type": "execute_result"
    }
   ],
   "source": [
    "## bydefault the delimiter is  \" \"\n",
    "## it load data from the text file\n",
    "data = np.loadtxt(\"data.csv\", delimiter = \",\")\n",
    "type(data)"
   ]
  },
  {
   "cell_type": "code",
   "execution_count": 3,
   "metadata": {},
   "outputs": [
    {
     "data": {
      "text/plain": [
       "(3,)"
      ]
     },
     "execution_count": 3,
     "metadata": {},
     "output_type": "execute_result"
    }
   ],
   "source": [
    "x = np.array([1, 2, 3]) # 1-D numpy array\n",
    "x.shape"
   ]
  },
  {
   "cell_type": "code",
   "execution_count": 4,
   "metadata": {},
   "outputs": [
    {
     "name": "stdout",
     "output_type": "stream",
     "text": [
      "(100, 2)\n"
     ]
    },
    {
     "data": {
      "text/plain": [
       "((100, 1), (100,))"
      ]
     },
     "execution_count": 4,
     "metadata": {},
     "output_type": "execute_result"
    }
   ],
   "source": [
    "print(data.shape)\n",
    "x = data[ : , 0].reshape(-1, 1)\n",
    "y = data[ : , 1]\n",
    "x.shape, y.shape\n",
    "## we need a 2-D array here (features always represent in form of 2-D array)\n",
    "# numpy_array(row, col) ..... if we dont know how much row we want use -1    \n",
    "# x ==> 2-D numpy array\n",
    "# y ==> 1-D numpy array"
   ]
  },
  {
   "cell_type": "markdown",
   "metadata": {},
   "source": [
    "# 2) Divide data into training and testing data"
   ]
  },
  {
   "cell_type": "code",
   "execution_count": 5,
   "metadata": {},
   "outputs": [
    {
     "name": "stdout",
     "output_type": "stream",
     "text": [
      "float64\n"
     ]
    },
    {
     "data": {
      "text/plain": [
       "(numpy.ndarray, numpy.ndarray)"
      ]
     },
     "execution_count": 5,
     "metadata": {},
     "output_type": "execute_result"
    }
   ],
   "source": [
    "from sklearn import model_selection\n",
    "x_train , x_test , y_train , y_test = model_selection.train_test_split(x, y)\n",
    "print(x_train.dtype)\n",
    "type(x_train), type(x_test)"
   ]
  },
  {
   "cell_type": "markdown",
   "metadata": {},
   "source": [
    "# 3) Training of the Model"
   ]
  },
  {
   "cell_type": "code",
   "execution_count": 6,
   "metadata": {},
   "outputs": [
    {
     "data": {
      "text/plain": [
       "LinearRegression(copy_X=True, fit_intercept=True, n_jobs=None, normalize=False)"
      ]
     },
     "execution_count": 6,
     "metadata": {},
     "output_type": "execute_result"
    }
   ],
   "source": [
    "from sklearn.linear_model import LinearRegression\n",
    "algo1 = LinearRegression()\n",
    "algo1.fit(x_train, y_train)"
   ]
  },
  {
   "cell_type": "code",
   "execution_count": 7,
   "metadata": {},
   "outputs": [
    {
     "name": "stdout",
     "output_type": "stream",
     "text": [
      "slope (m) : [1.25253374]\n",
      "intercept (c) : 11.316166453179548\n"
     ]
    }
   ],
   "source": [
    "# y = m1*x1 + m2*x2 + m3*x3 + m4*x4 + ... + mn * xn\n",
    "print(\"slope (m) :\", algo1.coef_)\n",
    "print(\"intercept (c) :\", algo1.intercept_)"
   ]
  },
  {
   "cell_type": "markdown",
   "metadata": {},
   "source": [
    "# 4) plot training and testing dataset"
   ]
  },
  {
   "cell_type": "code",
   "execution_count": 8,
   "metadata": {},
   "outputs": [
    {
     "data": {
      "image/png": "[encoded data removed]",
      "text/plain": [
       "<Figure size 432x288 with 1 Axes>"
      ]
     },
     "metadata": {
      "needs_background": "light"
     },
     "output_type": "display_data"
    }
   ],
   "source": [
    "import matplotlib.pyplot as plt\n",
    "m = algo1.coef_[0]\n",
    "c = algo1.intercept_\n",
    "\n",
    "## Training Datasets\n",
    "plt.scatter(x_train , y_train)\n",
    "\n",
    "## Testing Datasets\n",
    "x_line = np.arange(30 , 70 , 0.1)\n",
    "y_line = m * x_line + c\n",
    "# Both are correct\n",
    "# plt.plot(x_line , y_line , \"r\") \n",
    "plt.plot(x_line, y_line, color = \"red\")\n",
    "\n",
    "plt.grid()\n",
    "plt.show()\n",
    "### kissi X_test ke liye uska actual answer y_test hoga but according to our algorithm\n",
    "### we will predict our output according to the straight line"
   ]
  },
  {
   "cell_type": "markdown",
   "metadata": {},
   "source": [
    "# 5) coefficient of Determination"
   ]
  },
  {
   "cell_type": "code",
   "execution_count": 9,
   "metadata": {},
   "outputs": [
    {
     "data": {
      "text/plain": [
       "(0.56081542374943, 0.6540106922022204)"
      ]
     },
     "execution_count": 9,
     "metadata": {},
     "output_type": "execute_result"
    }
   ],
   "source": [
    "train_res = algo1.score(x_train , y_train)\n",
    "test_res = algo1.score(x_test , y_test)\n",
    "\n",
    "train_res , test_res"
   ]
  },
  {
   "cell_type": "markdown",
   "metadata": {},
   "source": [
    "# 7) coding linear regression"
   ]
  },
  {
   "cell_type": "code",
   "execution_count": 10,
   "metadata": {},
   "outputs": [
    {
     "name": "stdout",
     "output_type": "stream",
     "text": [
      "m , c : 1.0 23.632773732832185\n",
      "Test score : 0.5119527325776205\n",
      "cost on trianing data : 3702.317843978664\n",
      "\n",
      "Train score 0.5784186548966221\n",
      "cost on training data : 8303.169366844628\n"
     ]
    }
   ],
   "source": [
    "def fit(x_train , y_train):\n",
    "    m = (x_train * y_train).mean() - x_train.mean() * y_train.mean()\n",
    "    m //= (x_train ** 2).mean() - x_train.mean() ** 2\n",
    "    c = y_train.mean() - m * x_train.mean()\n",
    "    return m , c\n",
    "\n",
    "def predict(x , m ,c):\n",
    "    return x * m + c\n",
    "\n",
    "def score(y_truth , y_pred):\n",
    "    u = ((y_truth - y_pred) ** 2 ).sum()\n",
    "    v = ((y_truth - y_truth.mean()) ** 2 ).sum()\n",
    "    return 1 - u / v\n",
    "\n",
    "def cost(x , y , m , c):\n",
    "#     return ((y - m*x - c) ** 2).mean()  ## use when training data are so large and value of cost is very large\n",
    "    return ((y - m*x - c) ** 2).sum()\n",
    "    \n",
    "\n",
    "\n",
    "x = data[: , 0]\n",
    "y = data[: , 1]\n",
    "from sklearn import model_selection\n",
    "x_train , x_test , y_train , y_test = model_selection.train_test_split(x , y , test_size = 0.3)\n",
    "# type(x_train)\n",
    "# type(x_test)\n",
    "# x_train.shape\n",
    "\n",
    "m , c = fit(x_train , y_train)\n",
    "print(\"m , c :\" , m , c)\n",
    "\n",
    "# on test data\n",
    "y_pred = predict(x_test , m , c)\n",
    "print(\"Test score :\" , score(y_test , y_pred))\n",
    "print(\"cost on trianing data :\" , cost(x_test , y_test , m , c))\n",
    "print()\n",
    "\n",
    "# on training data\n",
    "y_train_pred = predict(x_train , m , c)\n",
    "print(\"Train score\" , score(y_train , y_train_pred))\n",
    "print(\"cost on training data :\" , cost(x_train , y_train , m , c ))"
   ]
  }
 ],
 "metadata": {
  "kernelspec": {
   "display_name": "Python 3",
   "language": "python",
   "name": "python3"
  },
  "language_info": {
   "codemirror_mode": {
    "name": "ipython",
    "version": 3
   },
   "file_extension": ".py",
   "mimetype": "text/x-python",
   "name": "python",
   "nbconvert_exporter": "python",
   "pygments_lexer": "ipython3",
   "version": "3.7.6"
  }
 },
 "nbformat": 4,
 "nbformat_minor": 2
}
