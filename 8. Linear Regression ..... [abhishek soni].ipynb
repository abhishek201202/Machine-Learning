{
 "cells": [
  {
   "cell_type": "markdown",
   "metadata": {},
   "source": [
    "# 1) Load data from the text file"
   ]
  },
  {
   "cell_type": "code",
   "execution_count": 1,
   "metadata": {},
   "outputs": [],
   "source": [
    "import numpy as np"
   ]
  },
  {
   "cell_type": "code",
   "execution_count": 2,
   "metadata": {},
   "outputs": [],
   "source": [
    "## bydefault the delimiter is  \" \"\n",
    "## it load data from the text file\n",
    "data = np.loadtxt(\"data.csv\" , delimiter = \",\")"
   ]
  },
  {
   "cell_type": "code",
   "execution_count": 3,
   "metadata": {},
   "outputs": [
    {
     "name": "stdout",
     "output_type": "stream",
     "text": [
      "(100, 2)\n"
     ]
    },
    {
     "data": {
      "text/plain": [
       "(100, 1)"
      ]
     },
     "execution_count": 3,
     "metadata": {},
     "output_type": "execute_result"
    }
   ],
   "source": [
    "print(data.shape)\n",
    "x = data[: , 0].reshape(-1, 1)  ## we need a 2-D array here (features always represent in form of 2-D array)\n",
    "y = data[: , 1]\n",
    "x.shape"
   ]
  },
  {
   "cell_type": "markdown",
   "metadata": {},
   "source": [
    "# 2) Divide data into training and testing data"
   ]
  },
  {
   "cell_type": "code",
   "execution_count": 4,
   "metadata": {},
   "outputs": [
    {
     "data": {
      "text/plain": [
       "numpy.ndarray"
      ]
     },
     "execution_count": 4,
     "metadata": {},
     "output_type": "execute_result"
    }
   ],
   "source": [
    "from sklearn import model_selection\n",
    "x_train , x_test , y_train , y_test = model_selection.train_test_split(x , y)\n",
    "# print(x_train.dtype)\n",
    "type(x_train)\n",
    "type(x_test)"
   ]
  },
  {
   "cell_type": "markdown",
   "metadata": {},
   "source": [
    "# 3) train the training data"
   ]
  },
  {
   "cell_type": "code",
   "execution_count": 5,
   "metadata": {},
   "outputs": [
    {
     "data": {
      "text/plain": [
       "LinearRegression(copy_X=True, fit_intercept=True, n_jobs=None, normalize=False)"
      ]
     },
     "execution_count": 5,
     "metadata": {},
     "output_type": "execute_result"
    }
   ],
   "source": [
    "from sklearn.linear_model import LinearRegression\n",
    "algo1 = LinearRegression()\n",
    "algo1.fit(x_train , y_train)"
   ]
  },
  {
   "cell_type": "code",
   "execution_count": 6,
   "metadata": {},
   "outputs": [
    {
     "name": "stdout",
     "output_type": "stream",
     "text": [
      "slope (m) : [1.32125654]\n",
      "intercept (c) : 8.087974612936677\n"
     ]
    }
   ],
   "source": [
    "print(\"slope (m) :\" , algo1.coef_)\n",
    "print(\"intercept (c) :\" , algo1.intercept_)"
   ]
  },
  {
   "cell_type": "markdown",
   "metadata": {},
   "source": [
    "# 4) plot training dataset"
   ]
  },
  {
   "cell_type": "code",
   "execution_count": 8,
   "metadata": {},
   "outputs": [
    {
     "data": {
      "image/png": "[encoded data removed]",
      "text/plain": [
       "<Figure size 432x288 with 1 Axes>"
      ]
     },
     "metadata": {
      "needs_background": "light"
     },
     "output_type": "display_data"
    }
   ],
   "source": [
    "import matplotlib.pyplot as plt\n",
    "m = algo1.coef_[0]\n",
    "c = algo1.intercept_\n",
    "\n",
    "x_line = np.arange(30 , 70 , 0.1)\n",
    "y_line = m * x_line + c\n",
    "plt.plot(x_line , y_line , \"r\") ## testing result\n",
    "\n",
    "train_1d = x_train.reshape(75)\n",
    "plt.scatter(x_train , y_train)\n",
    "plt.show()\n"
   ]
  },
  {
   "cell_type": "markdown",
   "metadata": {},
   "source": [
    "# 5) plot testing dataset"
   ]
  },
  {
   "cell_type": "code",
   "execution_count": 9,
   "metadata": {},
   "outputs": [
    {
     "data": {
      "image/png": "[encoded data removed]",
      "text/plain": [
       "<Figure size 432x288 with 1 Axes>"
      ]
     },
     "metadata": {
      "needs_background": "light"
     },
     "output_type": "display_data"
    }
   ],
   "source": [
    "import matplotlib.pyplot as plt\n",
    "m = algo1.coef_[0]\n",
    "c = algo1.intercept_\n",
    "\n",
    "x_line = np.arange(30 , 70 , 0.1)\n",
    "y_line = m * x_line + c\n",
    "plt.plot(x_line , y_line , \"r\")\n",
    "\n",
    "train_1d = x_test.reshape(25)\n",
    "plt.scatter(x_test , y_test)\n",
    "plt.grid()\n",
    "plt.show()\n",
    "### kissi X_test ke liye uska actual answer y_test hoga but according toour algorithm\n",
    "### we will predict our output according to the straight line"
   ]
  },
  {
   "cell_type": "markdown",
   "metadata": {},
   "source": [
    "# 6) coefficient of Determination"
   ]
  },
  {
   "cell_type": "code",
   "execution_count": 10,
   "metadata": {},
   "outputs": [
    {
     "data": {
      "text/plain": [
       "(0.5852857291598988, 0.6438611905121079)"
      ]
     },
     "execution_count": 10,
     "metadata": {},
     "output_type": "execute_result"
    }
   ],
   "source": [
    "train_res = algo1.score(x_train , y_train)\n",
    "test_res = algo1.score(x_test , y_test)\n",
    "\n",
    "train_res , test_res"
   ]
  },
  {
   "cell_type": "markdown",
   "metadata": {},
   "source": [
    "# 7) coding linear regression"
   ]
  },
  {
   "cell_type": "code",
   "execution_count": 11,
   "metadata": {},
   "outputs": [
    {
     "name": "stdout",
     "output_type": "stream",
     "text": [
      "m , c : 1.0 23.165241823421347\n",
      "Test score : 0.4814846031080374\n",
      "cost on trianing data : 4853.324739382659\n",
      "\n",
      "Train score 0.601591811681885\n",
      "cost on training data : 7187.479954744948\n"
     ]
    }
   ],
   "source": [
    "def fit(x_train , y_train):\n",
    "    m = (x_train * y_train).mean() - x_train.mean() * y_train.mean()\n",
    "    m //= (x_train ** 2).mean() - x_train.mean() ** 2\n",
    "    c = y_train.mean() - m * x_train.mean()\n",
    "    return m , c\n",
    "\n",
    "def predict(x , m ,c):\n",
    "    return x * m + c\n",
    "\n",
    "def score(y_truth , y_pred):\n",
    "    u = ((y_truth - y_pred) ** 2 ).sum()\n",
    "    v = ((y_truth - y_truth.mean()) ** 2 ).sum()\n",
    "    return 1 - u / v\n",
    "\n",
    "def cost(x , y , m , c):\n",
    "#     return ((y - m*x - c) ** 2).mean()  ## use when training data are so large and value of cost is very large\n",
    "    return ((y - m*x - c) ** 2).sum()\n",
    "    \n",
    "\n",
    "\n",
    "x = data[: , 0]\n",
    "y = data[: , 1]\n",
    "from sklearn import model_selection\n",
    "x_train , x_test , y_train , y_test = model_selection.train_test_split(x , y , test_size = 0.3)\n",
    "# type(x_train)\n",
    "# type(x_test)\n",
    "# x_train.shape\n",
    "\n",
    "m , c = fit(x_train , y_train)\n",
    "print(\"m , c :\" , m , c)\n",
    "\n",
    "# on test data\n",
    "y_pred = predict(x_test , m , c)\n",
    "print(\"Test score :\" , score(y_test , y_pred))\n",
    "print(\"cost on trianing data :\" , cost(x_test , y_test , m , c))\n",
    "print()\n",
    "\n",
    "# on training data\n",
    "y_train_pred = predict(x_train , m , c)\n",
    "print(\"Train score\" , score(y_train , y_train_pred))\n",
    "print(\"cost on training data :\" , cost(x_train , y_train , m , c ))\n"
   ]
  }
 ],
 "metadata": {
  "kernelspec": {
   "display_name": "Python 3",
   "language": "python",
   "name": "python3"
  },
  "language_info": {
   "codemirror_mode": {
    "name": "ipython",
    "version": 3
   },
   "file_extension": ".py",
   "mimetype": "text/x-python",
   "name": "python",
   "nbconvert_exporter": "python",
   "pygments_lexer": "ipython3",
   "version": "3.7.4"
  }
 },
 "nbformat": 4,
 "nbformat_minor": 2
}
