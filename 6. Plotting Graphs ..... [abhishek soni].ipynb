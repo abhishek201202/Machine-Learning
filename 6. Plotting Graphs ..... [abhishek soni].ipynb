{
 "cells": [
  {
   "cell_type": "markdown",
   "metadata": {},
   "source": [
    "# 1) import module to draw graphs"
   ]
  },
  {
   "cell_type": "code",
   "execution_count": 2,
   "metadata": {},
   "outputs": [],
   "source": [
    "import matplotlib.pyplot as plt\n",
    "\n",
    "## Matplotlib\n",
    "# Matplotlib is a plotting library for the Python programming language \n",
    "# and its numerical mathematics extension NumPy. It provides an object-oriented \n",
    "# API for embedding plots into applications using general-purpose GUI toolkits \n",
    "# like Tkinter, wxPython, Qt, or GTK+.\n",
    "\n",
    "## pyplot\n",
    "# matplotlib.pyplot is a collection of functions that make matplotlib \n",
    "# work like MATLAB. Each pyplot function makes some change to a figure: \n",
    "# e.g., creates a figure, creates a plotting area in a figure, plots some \n",
    "# lines in a plotting area, decorates the plot with labels, etc."
   ]
  },
  {
   "cell_type": "markdown",
   "metadata": {},
   "source": [
    "# 2) scatter points"
   ]
  },
  {
   "cell_type": "code",
   "execution_count": null,
   "metadata": {},
   "outputs": [],
   "source": [
    "x = [1,2,3]\n",
    "y = [2,4,6]\n",
    "plt.scatter(x, y)\n",
    "plt.show()"
   ]
  },
  {
   "cell_type": "markdown",
   "metadata": {},
   "source": [
    "# 3) plot points"
   ]
  },
  {
   "cell_type": "code",
   "execution_count": null,
   "metadata": {},
   "outputs": [],
   "source": [
    "x = [1,2,3]\n",
    "y = [2,4,6]\n",
    "plt.scatter(x, y)\n",
    "plt.plot(x, y)\n",
    "plt.show()"
   ]
  },
  {
   "cell_type": "code",
   "execution_count": null,
   "metadata": {},
   "outputs": [],
   "source": [
    "x = [1, 2, 3]\n",
    "y = [2, 4, 6]\n",
    "\n",
    "x2 = [3, 4, 5]\n",
    "y2 = [2, 4, 6]\n",
    "plt.plot(x2, y2)\n",
    "plt.plot(x, y)\n",
    "plt.show()"
   ]
  },
  {
   "cell_type": "markdown",
   "metadata": {},
   "source": [
    "# 4) scatter ,dash , simple , dash dotted line"
   ]
  },
  {
   "cell_type": "code",
   "execution_count": null,
   "metadata": {},
   "outputs": [],
   "source": [
    "x = [1,2,3]\n",
    "y = [2,4,6]\n",
    "# plt.plot(x , y , \"r+\")\n",
    "# plt.plot(x , y , \"g.\")\n",
    "plt.plot(x , y , \"bo\") ## scatter line\n",
    "# plt.plot(x , y , \"m--\") ## dash line\n",
    "# plt.plot(x , y , \"m-\") ## simple line\n",
    "plt.plot(x , y , \"m+-.\") ## dash dotted line\n",
    "plt.show()"
   ]
  },
  {
   "cell_type": "markdown",
   "metadata": {},
   "source": [
    "# 5) plot x^3 function"
   ]
  },
  {
   "cell_type": "code",
   "execution_count": null,
   "metadata": {},
   "outputs": [],
   "source": [
    "import numpy as np\n",
    "x = np.array([1,2,3,4])\n",
    "y = x ** 3\n",
    "plt.plot(x,y)\n",
    "plt.show()\n"
   ]
  },
  {
   "cell_type": "code",
   "execution_count": null,
   "metadata": {},
   "outputs": [],
   "source": [
    "x = np.arange(0,5,0.1) \n",
    "# create a numpy array whose elements are from 0 to 5 with diff of 0.1\n",
    "y = x ** 3\n",
    "plt.plot(x, y, \"bo\")\n",
    "plt.show()"
   ]
  },
  {
   "cell_type": "markdown",
   "metadata": {},
   "source": [
    "# 6) plot down a single array"
   ]
  },
  {
   "cell_type": "code",
   "execution_count": null,
   "metadata": {},
   "outputs": [],
   "source": [
    "a = [3,4,5] ## treated as the value of y\n",
    "            ## x should be taken as 0 ,1,2,3,....,n-1\n",
    "plt.plot(a)\n",
    "plt.show()"
   ]
  },
  {
   "cell_type": "markdown",
   "metadata": {},
   "source": [
    "# 7) color , marker , linewidth ,labels for axis , datasets and the title , axis ,                 grid , text"
   ]
  },
  {
   "cell_type": "code",
   "execution_count": null,
   "metadata": {},
   "outputs": [],
   "source": [
    "x = np.arange(0, 5, 0.1)\n",
    "y = x ** 3\n",
    "y2 = x ** 2\n",
    "plt.plot(x , y , color = \"green\" , marker = \"p\" , label = \"x^3\" )\n",
    "# plt.plot(x , y , color = \"red\" , linewidth = 5 , label = \"x^3\" )\n",
    "plt.plot(x , y2 , color = \"black\" , linewidth = 5 , label = \"x^2\")\n",
    "\n",
    "# Labeling axis\n",
    "plt.ylabel(\"x^3\")\n",
    "plt.xlabel(\"x\")\n",
    "\n",
    "# Give Title of graph\n",
    "plt.title(\"Matplotib demo\")\n",
    "\n",
    "# To show Scale of the graph\n",
    "plt.legend()\n",
    "\n",
    "# Adjust value on x and y axis\n",
    "plt.axis([0, 5, 0, 170])\n",
    "\n",
    "# To draw the grid in figure\n",
    "plt.grid()\n",
    "\n",
    "# To write some random text\n",
    "plt.text(2 , 80 , \"text\" , fontsize = 12)\n",
    "\n",
    "plt.show()"
   ]
  },
  {
   "cell_type": "markdown",
   "metadata": {},
   "source": [
    "# 8) pie graph"
   ]
  },
  {
   "cell_type": "code",
   "execution_count": 8,
   "metadata": {},
   "outputs": [
    {
     "data": {
      "image/png": "[encoded data removed]",
      "text/plain": [
       "<Figure size 432x288 with 1 Axes>"
      ]
     },
     "metadata": {},
     "output_type": "display_data"
    }
   ],
   "source": [
    "sizes = [3 , 4 , 6 , 2]\n",
    "col = [\"blue\" , \"red\" , \"orange\" , \"pink\"]\n",
    "label = [\"A\" , \"B\" , \"C\" , \"D\"]\n",
    "explo = [0.1, 0, 0, 0] # A ki tarah bahar karne ke liye\n",
    "\n",
    "plt.pie(sizes, colors=color, labels=label, autopct=\"%.2f%%\", explode=explo, counterclock=False) \n",
    "## to add % add 2 %%\n",
    "plt.title(\"spit among classes\")\n",
    "plt.axis(\"equal\")\n",
    "plt.show()\n"
   ]
  }
 ],
 "metadata": {
  "kernelspec": {
   "display_name": "Python 3",
   "language": "python",
   "name": "python3"
  },
  "language_info": {
   "codemirror_mode": {
    "name": "ipython",
    "version": 3
   },
   "file_extension": ".py",
   "mimetype": "text/x-python",
   "name": "python",
   "nbconvert_exporter": "python",
   "pygments_lexer": "ipython3",
   "version": "3.7.6"
  }
 },
 "nbformat": 4,
 "nbformat_minor": 2
}
