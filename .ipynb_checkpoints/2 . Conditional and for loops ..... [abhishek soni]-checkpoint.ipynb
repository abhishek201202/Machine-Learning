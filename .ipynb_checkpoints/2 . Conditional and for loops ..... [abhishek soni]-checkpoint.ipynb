{
 "cells": [
  {
   "cell_type": "markdown",
   "metadata": {},
   "source": [
    "# 1) boolean data type"
   ]
  },
  {
   "cell_type": "code",
   "execution_count": 1,
   "metadata": {},
   "outputs": [
    {
     "name": "stdout",
     "output_type": "stream",
     "text": [
      "<class 'bool'>\n",
      "True\n",
      "1\n"
     ]
    }
   ],
   "source": [
    "a = True\n",
    "b = False\n",
    "print(type(a))\n",
    "print(a)\n",
    "print(int(a))"
   ]
  },
  {
   "cell_type": "markdown",
   "metadata": {},
   "source": [
    "# 2) Relational operators"
   ]
  },
  {
   "cell_type": "code",
   "execution_count": 2,
   "metadata": {},
   "outputs": [
    {
     "name": "stdout",
     "output_type": "stream",
     "text": [
      "greater False\n",
      "lesser True\n",
      "greater than equal False\n",
      "lesser than equal True\n",
      "is equal False\n",
      "not equal True\n"
     ]
    }
   ],
   "source": [
    "x = 10\n",
    "y = 20\n",
    "print(\"greater\", x > y)\n",
    "print(\"lesser\", x < y)\n",
    "print(\"greater than equal\",x >= y)\n",
    "print(\"lesser than equal\",x <= y)\n",
    "print(\"is equal\",x == y)\n",
    "print(\"not equal\",x not  y)\n"
   ]
  },
  {
   "cell_type": "markdown",
   "metadata": {},
   "source": [
    "# 3) Logical operator"
   ]
  },
  {
   "cell_type": "code",
   "execution_count": 3,
   "metadata": {},
   "outputs": [
    {
     "name": "stdout",
     "output_type": "stream",
     "text": [
      "False\n",
      "True\n"
     ]
    }
   ],
   "source": [
    "x = 10\n",
    "y = 20\n",
    "z = 30\n",
    "print(x < y and x > z)\n",
    "print(x < y or x > z )"
   ]
  },
  {
   "cell_type": "markdown",
   "metadata": {},
   "source": [
    "# 4) if else"
   ]
  },
  {
   "cell_type": "code",
   "execution_count": 4,
   "metadata": {},
   "outputs": [
    {
     "name": "stdout",
     "output_type": "stream",
     "text": [
      "30\n",
      "120\n",
      "maximum element 30\n"
     ]
    }
   ],
   "source": [
    "x = 30\n",
    "y = 20\n",
    "\n",
    "if x>y:\n",
    "    print(x)\n",
    "else :\n",
    "    print(y)\n",
    "print(y+100)\n",
    "\n",
    "print(\"maximum element\",end=\" \")\n",
    "\n",
    "if x >= y and x >= z :\n",
    "    print(x)\n",
    "elif y >= z and y >= x :\n",
    "    print(y)\n",
    "else : \n",
    "    print(z)"
   ]
  },
  {
   "cell_type": "markdown",
   "metadata": {},
   "source": [
    "# 5) while loop"
   ]
  },
  {
   "cell_type": "code",
   "execution_count": 5,
   "metadata": {},
   "outputs": [
    {
     "name": "stdout",
     "output_type": "stream",
     "text": [
      "10\n",
      "1 2 3 4 5 6 7 8 9 10 \n",
      "done\n"
     ]
    }
   ],
   "source": [
    "# indentations is important \n",
    "n = int(input())\n",
    "i = 1\n",
    "while i <= n :\n",
    "    print(i , end = \" \")\n",
    "    i = i + 1\n",
    "print()\n",
    "print(\"done\")"
   ]
  },
  {
   "cell_type": "markdown",
   "metadata": {},
   "source": [
    "# 6) for loop and range"
   ]
  },
  {
   "cell_type": "code",
   "execution_count": 6,
   "metadata": {},
   "outputs": [
    {
     "name": "stdout",
     "output_type": "stream",
     "text": [
      "10\n",
      "0 1 2 3 4 5 6 7 8 9 \n",
      "1 2 3 4 5 6 7 8 9 \n",
      "4 6 8 \n"
     ]
    }
   ],
   "source": [
    "# range(start,end,step)\n",
    "# range(0,end,+1)  default values\n",
    "# end of range is not inclusive \n",
    "\n",
    "n = int(input())\n",
    "for i in range(n):\n",
    "    print(i,end=\" \")\n",
    "print()\n",
    "\n",
    "for i in range(1,n):\n",
    "    print(i,end=\" \")\n",
    "print()\n",
    "\n",
    "for i in range(4,n,2):\n",
    "    print(i,end=\" \")\n",
    "print()\n"
   ]
  },
  {
   "cell_type": "markdown",
   "metadata": {},
   "source": [
    "## prime or not"
   ]
  },
  {
   "cell_type": "code",
   "execution_count": 7,
   "metadata": {},
   "outputs": [
    {
     "name": "stdout",
     "output_type": "stream",
     "text": [
      "31\n",
      "prime\n"
     ]
    }
   ],
   "source": [
    "n=int(input())\n",
    "flag=True\n",
    "for i in range(2,n):\n",
    "    if n%i==0 :\n",
    "        flag=False\n",
    "        print(\"Not a prime\")\n",
    "        break\n",
    "if flag :\n",
    "    print(\"prime\")"
   ]
  },
  {
   "cell_type": "markdown",
   "metadata": {},
   "source": [
    "# 7) fast iteration"
   ]
  },
  {
   "cell_type": "code",
   "execution_count": 8,
   "metadata": {},
   "outputs": [
    {
     "name": "stdout",
     "output_type": "stream",
     "text": [
      "a\n",
      "b\n",
      "c\n",
      "d\n",
      "\n",
      "1\n",
      "2\n",
      "3\n",
      "4\n",
      "\n"
     ]
    }
   ],
   "source": [
    "# on strings\n",
    "s = \"abcd\"\n",
    "for c in s:\n",
    "    print(c)\n",
    "print()    \n",
    "\n",
    "# on tuples\n",
    "a = 1,2,3,4\n",
    "for t in a:\n",
    "    print(t)\n",
    "print()"
   ]
  },
  {
   "cell_type": "markdown",
   "metadata": {},
   "source": [
    "#  8) FUNCTIONS"
   ]
  },
  {
   "cell_type": "code",
   "execution_count": 9,
   "metadata": {},
   "outputs": [
    {
     "name": "stdout",
     "output_type": "stream",
     "text": [
      "10\n",
      "1546\n",
      "1556\n"
     ]
    }
   ],
   "source": [
    "def sum(a,b):\n",
    "    z = a + b\n",
    "    return z\n",
    "\n",
    "a = int(input())\n",
    "b = int(input())\n",
    "print(sum(a , b))"
   ]
  },
  {
   "cell_type": "markdown",
   "metadata": {},
   "source": [
    "#### 1) default arguments"
   ]
  },
  {
   "cell_type": "code",
   "execution_count": 10,
   "metadata": {},
   "outputs": [
    {
     "name": "stdout",
     "output_type": "stream",
     "text": [
      "3\n",
      "4\n",
      "5\n",
      "6\n",
      "12\n"
     ]
    }
   ],
   "source": [
    "# there is no need to create exponention function in python to cal large power \n",
    "# just for fun\n",
    "def power_expo(x , y , m):\n",
    "    if x == 0:\n",
    "        return 0\n",
    "    if y == 0:\n",
    "        return 1\n",
    "    temp = power_expo(x , y/2 , m)\n",
    "    temp = (temp * temp) \n",
    "    if (y % 2) != 0:\n",
    "        temp = ( temp * x )\n",
    "    return temp\n",
    "    \n",
    "    \n",
    "def sum(a = 0 , b = 1 , c = 2):\n",
    "    return a + b + c\n",
    "\n",
    "print(sum())\n",
    "print(sum(1))\n",
    "print(sum(1,2))\n",
    "print(sum(1,2,3))\n",
    "print(sum(b = 10))\n",
    "# print(power_expo(2,3,13))\n"
   ]
  },
  {
   "cell_type": "markdown",
   "metadata": {},
   "source": [
    "#### 2) variable number of argument to a function"
   ]
  },
  {
   "cell_type": "code",
   "execution_count": 11,
   "metadata": {},
   "outputs": [
    {
     "data": {
      "text/plain": [
       "55"
      ]
     },
     "execution_count": 11,
     "metadata": {},
     "output_type": "execute_result"
    }
   ],
   "source": [
    "def sum_variables(a,b,*more):\n",
    "    ans = a + b\n",
    "    for i in more:\n",
    "        ans += i\n",
    "    return ans\n",
    "sum_variables(1,2,4,3,5,6,7,8,10,9)"
   ]
  },
  {
   "cell_type": "markdown",
   "metadata": {},
   "source": [
    "#### 3) More than one return value"
   ]
  },
  {
   "cell_type": "code",
   "execution_count": 12,
   "metadata": {},
   "outputs": [
    {
     "name": "stdout",
     "output_type": "stream",
     "text": [
      "3 -1\n",
      "(3, -1)\n",
      "3\n",
      "(3, -1)\n"
     ]
    }
   ],
   "source": [
    "def dummy(a , b):\n",
    "    return a + b , a - b\n",
    "\n",
    "add , diff = dummy(1 , 2)\n",
    "print(add , diff)\n",
    "\n",
    "dd = dummy(1 , 2)\n",
    "print(dd)\n",
    "\n",
    "only_one = dummy(1 , 2)[0]\n",
    "print(only_one)\n",
    "print(dummy(1,2)[:])"
   ]
  }
 ],
 "metadata": {
  "kernelspec": {
   "display_name": "Python 3",
   "language": "python",
   "name": "python3"
  },
  "language_info": {
   "codemirror_mode": {
    "name": "ipython",
    "version": 3
   },
   "file_extension": ".py",
   "mimetype": "text/x-python",
   "name": "python",
   "nbconvert_exporter": "python",
   "pygments_lexer": "ipython3",
   "version": "3.7.6"
  }
 },
 "nbformat": 4,
 "nbformat_minor": 2
}
