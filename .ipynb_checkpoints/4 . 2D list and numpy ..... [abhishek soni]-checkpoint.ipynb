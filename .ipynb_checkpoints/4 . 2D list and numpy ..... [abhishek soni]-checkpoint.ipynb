{
 "cells": [
  {
   "cell_type": "markdown",
   "metadata": {},
   "source": [
    "# # 2-D list"
   ]
  },
  {
   "cell_type": "markdown",
   "metadata": {},
   "source": [
    "## 1) initialisation of 2-D lists"
   ]
  },
  {
   "cell_type": "code",
   "execution_count": 1,
   "metadata": {},
   "outputs": [
    {
     "name": "stdout",
     "output_type": "stream",
     "text": [
      "[[1, 2], [4, 5, 6, 7]]\n",
      "[1, 2]\n",
      "6\n",
      "2\n",
      "4\n"
     ]
    }
   ],
   "source": [
    "l = [ [1,2], [4,5,6,7] ]\n",
    "print(l)\n",
    "print(l[0])\n",
    "print(l[1][2])\n",
    "\n",
    "# check len of list\n",
    "len(l)\n",
    "for i in range(len(l)):\n",
    "    print(len(l[i]))"
   ]
  },
  {
   "cell_type": "code",
   "execution_count": 2,
   "metadata": {},
   "outputs": [
    {
     "name": "stdout",
     "output_type": "stream",
     "text": [
      "[0, 1, 2, 3, 4, 5, 6, 7, 8, 9] \n",
      "\n",
      "[[0, 0, 0], [0, 0, 0], [0, 0, 0], [0, 0, 0], [0, 0, 0]] \n",
      "\n",
      "[[0, 1, 2, 3, 4], [0, 1, 2, 3, 4], [0, 1, 2, 3, 4], [0, 1, 2, 3, 4], [0, 1, 2, 3, 4]] \n",
      "\n",
      "[[0, 1, 2, 3, 4], [5, 6, 7, 8, 9], [10, 11, 12, 13, 14], [15, 16, 17, 18, 19], [20, 21, 22, 23, 24]] \n",
      "\n"
     ]
    }
   ],
   "source": [
    "l1D = [i for i in range(10)]\n",
    "print(l1D , '\\n')\n",
    "\n",
    "l2D = [ [0,0,0] for i in range(5)]\n",
    "print(l2D , '\\n')\n",
    "\n",
    "l2D1 = [ [j for j in range (5)] for i in range(5)]\n",
    "print(l2D1,'\\n')\n",
    "\n",
    "l2D2 = [ [5 * i + j for j in range(5)] for i in range(5)]\n",
    "print(l2D2 , '\\n')"
   ]
  },
  {
   "cell_type": "markdown",
   "metadata": {},
   "source": [
    "## 2) user input"
   ]
  },
  {
   "cell_type": "code",
   "execution_count": 3,
   "metadata": {},
   "outputs": [
    {
     "name": "stdout",
     "output_type": "stream",
     "text": [
      "2 3\n",
      "1 2 3 4 5 6\n",
      "[[1, 2, 3], [4, 5, 6]]\n",
      "[[1, 2, 3], [4, 5, 6]]\n"
     ]
    }
   ],
   "source": [
    "# str = (input().strip().split(\" \"))\n",
    "# n = int(str[0])\n",
    "# m = int(str[1])\n",
    "# l = [int(i) for i in input().strip().split(\" \")]\n",
    "\n",
    "n , m = input().split()\n",
    "n = int(n)\n",
    "m = int(m)\n",
    "l = [int(x) for x in input().split()]\n",
    "\n",
    "### 1st method \n",
    "dp1 = []\n",
    "for i in range(n):\n",
    "    dp1.append([])\n",
    "    for j in range(m):\n",
    "        dp1[i].append(l[i*m + j])\n",
    "print(dp1)\n",
    "\n",
    "## 2nd method\n",
    "dp2 = [ [ l[i*m + j] for j in range(m) ] for i in range(n)]\n",
    "print(dp2)"
   ]
  },
  {
   "cell_type": "markdown",
   "metadata": {},
   "source": [
    "## 3) wave print"
   ]
  },
  {
   "cell_type": "code",
   "execution_count": 4,
   "metadata": {},
   "outputs": [
    {
     "name": "stdout",
     "output_type": "stream",
     "text": [
      "2 3 \n",
      "5 6 4 9 8 7\n",
      "5 9 8 6 4 7 \n"
     ]
    }
   ],
   "source": [
    "n , m = input().split()\n",
    "n = int(n) \n",
    "m = int(m)\n",
    "arr = [int(x) for x in input().split()]\n",
    "arr = [ [arr[i*m + j] for j in range(m)] for i in range(n)]\n",
    "\n",
    "\n",
    "for j in range(m):\n",
    "    if j%2 == 0 :\n",
    "        for i in range(n):\n",
    "            print(arr[i][j] , end = \" \")\n",
    "    else :\n",
    "        for i in range(n - 1 , -1 , -1):\n",
    "            print(arr[i][j] , end = \" \")\n",
    "print()\n"
   ]
  },
  {
   "cell_type": "markdown",
   "metadata": {},
   "source": [
    "# # Numpy\n",
    "### inner implementation is done with the help of c++ , same as array of c++ but different from lists of python , it store elements of same data type."
   ]
  },
  {
   "cell_type": "markdown",
   "metadata": {},
   "source": [
    "## 1) import module(library)"
   ]
  },
  {
   "cell_type": "code",
   "execution_count": 5,
   "metadata": {},
   "outputs": [
    {
     "name": "stdout",
     "output_type": "stream",
     "text": [
      "3.1622776601683795\n",
      "11.090536506409418\n"
     ]
    }
   ],
   "source": [
    "## 1st method\n",
    "import math\n",
    "print(math.sqrt(10))\n",
    "\n",
    "## 2nd method\n",
    "import math as m\n",
    "print(m.sqrt(123))"
   ]
  },
  {
   "cell_type": "code",
   "execution_count": 6,
   "metadata": {},
   "outputs": [],
   "source": [
    "# numpy\n",
    "import numpy as np"
   ]
  },
  {
   "cell_type": "markdown",
   "metadata": {},
   "source": [
    "## 2) initialisation of numpy array ( 1d , 2d , 3d )"
   ]
  },
  {
   "cell_type": "code",
   "execution_count": 7,
   "metadata": {},
   "outputs": [
    {
     "name": "stdout",
     "output_type": "stream",
     "text": [
      "[1, 2, 3]\n",
      "[1 2 3]\n",
      "\n",
      "['1' '78786.989' 'abhishek']\n",
      "\n",
      "[0. 0. 0. 0. 0. 0. 0. 0. 0. 0.]\n",
      "[1. 1. 1. 1. 1. 1. 1. 1. 1. 1.]\n",
      "[0 1 2 3 4 5 6 7 8 9]\n",
      "\n",
      "int32 \n",
      "\n",
      "2\n",
      "[[0 0 0]\n",
      " [0 0 0]]\n",
      "\n",
      "[[[0 0 0]\n",
      "  [0 0 0]]]\n",
      "\n"
     ]
    }
   ],
   "source": [
    "l = [1,2,3]\n",
    "print(l)\n",
    "print(np.array(l))\n",
    "print()\n",
    "\n",
    "\n",
    "l2 = [1,78786.989,\"abhishek\"]\n",
    "print(np.array(l2)) ### array of string will be formed\n",
    "print()\n",
    "\n",
    "print(np.zeros(10)) ## array of float will be created\n",
    "print(np.ones(10))\n",
    "print(np.arange(10)) ## array of integer will be created\n",
    "print()\n",
    "\n",
    "a = np.zeros(10,int)\n",
    "a[0] = \"1\" ## convert \"1\" to 1\n",
    "print(a.dtype , '\\n')\n",
    "\n",
    "# multidimensional array\n",
    "arr2d = np.zeros((2 , 3) , int)\n",
    "print(len(arr2d))\n",
    "print(arr2d)\n",
    "print()\n",
    "\n",
    "arr3d = np.zeros((1,2,3),int)  ## (x , y , z) == (1 , 2 , 3)\n",
    "print(arr3d)\n",
    "len(arr3d)\n",
    "print()"
   ]
  },
  {
   "cell_type": "markdown",
   "metadata": {},
   "source": [
    "## 3) slicing and shape "
   ]
  },
  {
   "cell_type": "code",
   "execution_count": 8,
   "metadata": {},
   "outputs": [
    {
     "name": "stdout",
     "output_type": "stream",
     "text": [
      "0\n",
      "[[[0 0 0]\n",
      "  [0 0 0]]]\n",
      "(1, 2, 3)\n"
     ]
    }
   ],
   "source": [
    "print(arr3d[0][1][2])\n",
    "\n",
    "# below slicing is done on all the 3 dimensions\n",
    "print(arr3d[0:1 , 0:2 , 0:3])\n",
    "\n",
    "print(arr3d.shape)   ## gives the size of arr3d\n"
   ]
  },
  {
   "cell_type": "code",
   "execution_count": 9,
   "metadata": {},
   "outputs": [
    {
     "name": "stdout",
     "output_type": "stream",
     "text": [
      "[1 2 3] \n",
      "\n",
      "[1 4 1 4] \n",
      "\n",
      "[[3]\n",
      " [6]\n",
      " [3]\n",
      " [6]] \n",
      "\n"
     ]
    }
   ],
   "source": [
    "a = np.array([[1,2,3],[4,5,6],[1,2,3],[4,5,6]])\n",
    "print(a[0] , '\\n')\n",
    "print(a[:,0] , '\\n')  ## gives complete slicing of 0th column\n",
    "print(a[:,2:4] , '\\n') ## we can get any subarray from any row to any row and from any col to any col\n",
    "\n",
    "\n"
   ]
  },
  {
   "cell_type": "markdown",
   "metadata": {},
   "source": [
    "## 4) operations ( + , - , * , ** , mean , sum , dot , shape , matrix )"
   ]
  },
  {
   "cell_type": "code",
   "execution_count": 10,
   "metadata": {},
   "outputs": [
    {
     "name": "stdout",
     "output_type": "stream",
     "text": [
      "[3 4 5]\n",
      "[5 7 9]\n",
      "[2 4 6]\n",
      "[ 4 10 18]\n",
      "[1 4 9]\n",
      "[  1  32 729]\n"
     ]
    }
   ],
   "source": [
    "# numpy operations\n",
    "# numpy array behave as element wise operations\n",
    "\n",
    "a = np.array([1,2,3])\n",
    "b = np.array([4,5,6])\n",
    "\n",
    "print(a + 2)\n",
    "print(a + b)\n",
    "print(a * 2)\n",
    "print(a * b)\n",
    "print(a ** 2)\n",
    "print(a ** b)\n"
   ]
  },
  {
   "cell_type": "code",
   "execution_count": 11,
   "metadata": {},
   "outputs": [
    {
     "name": "stdout",
     "output_type": "stream",
     "text": [
      "2.0\n",
      "6\n"
     ]
    }
   ],
   "source": [
    "print(a.mean())\n",
    "print(a.sum())"
   ]
  },
  {
   "cell_type": "code",
   "execution_count": 12,
   "metadata": {},
   "outputs": [
    {
     "name": "stdout",
     "output_type": "stream",
     "text": [
      "5.196152422706632\n"
     ]
    }
   ],
   "source": [
    "# square distance\n",
    "# sqrt( (x2-x1)^2 + (y2-y1)^2 )\n",
    "print( math.sqrt(((a-b)**2).sum()) )\n",
    "\n",
    "\n"
   ]
  },
  {
   "cell_type": "code",
   "execution_count": 13,
   "metadata": {},
   "outputs": [
    {
     "name": "stdout",
     "output_type": "stream",
     "text": [
      "14.75\n"
     ]
    }
   ],
   "source": [
    "## summation ( xi - x_mean) ^ 2\n",
    "\n",
    "x = np.array([1,3,5,6])\n",
    "print(((x-x.mean())**2).sum())"
   ]
  },
  {
   "cell_type": "code",
   "execution_count": 14,
   "metadata": {},
   "outputs": [
    {
     "name": "stdout",
     "output_type": "stream",
     "text": [
      "[[ 70 100]\n",
      " [150 220]]\n"
     ]
    }
   ],
   "source": [
    "# dot product\n",
    "a1 = np.array([[1,2],[3,4]])\n",
    "a2 = np.array([[10,20],[30,40]])\n",
    "\n",
    "print(a1.dot(a2))"
   ]
  },
  {
   "cell_type": "code",
   "execution_count": 15,
   "metadata": {},
   "outputs": [
    {
     "name": "stdout",
     "output_type": "stream",
     "text": [
      "(2, 3)\n",
      "[[1 2 4]\n",
      " [3 4 5]]\n"
     ]
    }
   ],
   "source": [
    "# numpy matrices\n",
    "# they are strictly behave like 2d matices \n",
    "## all mathmatical operation are of matrices\n",
    "a = np.matrix('1 2 4; 3 4 5')\n",
    "b = np.matrix([[1,2,4],[3,4,5]])\n",
    "print(a.shape)\n",
    "print(a)"
   ]
  },
  {
   "cell_type": "code",
   "execution_count": 16,
   "metadata": {},
   "outputs": [
    {
     "name": "stdout",
     "output_type": "stream",
     "text": [
      "[1 5 5]\n"
     ]
    }
   ],
   "source": [
    "## don't know what it does _---_---_---_\n",
    "print( np.sum([[0, 1], [0, 5] , [1,4]], axis=1) )\n",
    "\n",
    "    "
   ]
  }
 ],
 "metadata": {
  "kernelspec": {
   "display_name": "Python 3",
   "language": "python",
   "name": "python3"
  },
  "language_info": {
   "codemirror_mode": {
    "name": "ipython",
    "version": 3
   },
   "file_extension": ".py",
   "mimetype": "text/x-python",
   "name": "python",
   "nbconvert_exporter": "python",
   "pygments_lexer": "ipython3",
   "version": "3.7.6"
  }
 },
 "nbformat": 4,
 "nbformat_minor": 2
}
