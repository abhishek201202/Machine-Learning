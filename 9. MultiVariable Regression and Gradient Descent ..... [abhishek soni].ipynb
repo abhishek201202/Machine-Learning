{
 "cells": [
  {
   "cell_type": "markdown",
   "metadata": {},
   "source": [
    "# 1) more complex boundaries in linear regression"
   ]
  },
  {
   "cell_type": "code",
   "execution_count": 1,
   "metadata": {},
   "outputs": [
    {
     "name": "stdout",
     "output_type": "stream",
     "text": [
      "<class 'numpy.ndarray'>\n"
     ]
    },
    {
     "data": {
      "text/plain": [
       "((506, 13), (506,))"
      ]
     },
     "execution_count": 1,
     "metadata": {},
     "output_type": "execute_result"
    }
   ],
   "source": [
    "## loading boston datasets\n",
    "from sklearn import datasets\n",
    "boston = datasets.load_boston()\n",
    "x = boston.data\n",
    "y = boston.target\n",
    "print(type(x))\n",
    "x.shape, y.shape"
   ]
  },
  {
   "cell_type": "code",
   "execution_count": 2,
   "metadata": {},
   "outputs": [
    {
     "name": "stdout",
     "output_type": "stream",
     "text": [
      "['CRIM' 'ZN' 'INDUS' 'CHAS' 'NOX' 'RM' 'AGE' 'DIS' 'RAD' 'TAX' 'PTRATIO'\n",
      " 'B' 'LSTAT']\n",
      "\n",
      "type of df.AGE is : <class 'pandas.core.series.Series'>\n",
      "type of df[AGE] is : <class 'pandas.core.series.Series'>\n",
      "df.AGE dtype is : float64\n"
     ]
    }
   ],
   "source": [
    "## making a dataframe of boston dataset for manipulation\n",
    "import pandas as pd\n",
    "df = pd.DataFrame(x)\n",
    "print(boston.feature_names)\n",
    "df.columns = boston.feature_names\n",
    "df[\"age_age\"] = df.AGE ** 2\n",
    "print()\n",
    "\n",
    "print(\"type of df.AGE is :\", type(df.AGE))\n",
    "print(\"type of df[\"\"AGE\"\"] is :\", type(df[\"AGE\"]));\n",
    "print(\"df.AGE dtype is :\", df.AGE.dtype)"
   ]
  },
  {
   "cell_type": "code",
   "execution_count": 3,
   "metadata": {},
   "outputs": [
    {
     "data": {
      "text/html": [
       "<div>\n",
       "<style scoped>\n",
       "    .dataframe tbody tr th:only-of-type {\n",
       "        vertical-align: middle;\n",
       "    }\n",
       "\n",
       "    .dataframe tbody tr th {\n",
       "        vertical-align: top;\n",
       "    }\n",
       "\n",
       "    .dataframe thead th {\n",
       "        text-align: right;\n",
       "    }\n",
       "</style>\n",
       "<table border=\"1\" class=\"dataframe\">\n",
       "  <thead>\n",
       "    <tr style=\"text-align: right;\">\n",
       "      <th></th>\n",
       "      <th>CRIM</th>\n",
       "      <th>ZN</th>\n",
       "      <th>INDUS</th>\n",
       "      <th>CHAS</th>\n",
       "      <th>NOX</th>\n",
       "      <th>RM</th>\n",
       "      <th>AGE</th>\n",
       "      <th>DIS</th>\n",
       "      <th>RAD</th>\n",
       "      <th>TAX</th>\n",
       "      <th>PTRATIO</th>\n",
       "      <th>B</th>\n",
       "      <th>LSTAT</th>\n",
       "      <th>age_age</th>\n",
       "    </tr>\n",
       "  </thead>\n",
       "  <tbody>\n",
       "    <tr>\n",
       "      <th>count</th>\n",
       "      <td>506.000000</td>\n",
       "      <td>506.000000</td>\n",
       "      <td>506.000000</td>\n",
       "      <td>506.000000</td>\n",
       "      <td>506.000000</td>\n",
       "      <td>506.000000</td>\n",
       "      <td>506.000000</td>\n",
       "      <td>506.000000</td>\n",
       "      <td>506.000000</td>\n",
       "      <td>506.000000</td>\n",
       "      <td>506.000000</td>\n",
       "      <td>506.000000</td>\n",
       "      <td>506.000000</td>\n",
       "      <td>506.000000</td>\n",
       "    </tr>\n",
       "    <tr>\n",
       "      <th>mean</th>\n",
       "      <td>3.613524</td>\n",
       "      <td>11.363636</td>\n",
       "      <td>11.136779</td>\n",
       "      <td>0.069170</td>\n",
       "      <td>0.554695</td>\n",
       "      <td>6.284634</td>\n",
       "      <td>68.574901</td>\n",
       "      <td>3.795043</td>\n",
       "      <td>9.549407</td>\n",
       "      <td>408.237154</td>\n",
       "      <td>18.455534</td>\n",
       "      <td>356.674032</td>\n",
       "      <td>12.653063</td>\n",
       "      <td>5493.309545</td>\n",
       "    </tr>\n",
       "    <tr>\n",
       "      <th>std</th>\n",
       "      <td>8.601545</td>\n",
       "      <td>23.322453</td>\n",
       "      <td>6.860353</td>\n",
       "      <td>0.253994</td>\n",
       "      <td>0.115878</td>\n",
       "      <td>0.702617</td>\n",
       "      <td>28.148861</td>\n",
       "      <td>2.105710</td>\n",
       "      <td>8.707259</td>\n",
       "      <td>168.537116</td>\n",
       "      <td>2.164946</td>\n",
       "      <td>91.294864</td>\n",
       "      <td>7.141062</td>\n",
       "      <td>3449.600164</td>\n",
       "    </tr>\n",
       "    <tr>\n",
       "      <th>min</th>\n",
       "      <td>0.006320</td>\n",
       "      <td>0.000000</td>\n",
       "      <td>0.460000</td>\n",
       "      <td>0.000000</td>\n",
       "      <td>0.385000</td>\n",
       "      <td>3.561000</td>\n",
       "      <td>2.900000</td>\n",
       "      <td>1.129600</td>\n",
       "      <td>1.000000</td>\n",
       "      <td>187.000000</td>\n",
       "      <td>12.600000</td>\n",
       "      <td>0.320000</td>\n",
       "      <td>1.730000</td>\n",
       "      <td>8.410000</td>\n",
       "    </tr>\n",
       "    <tr>\n",
       "      <th>25%</th>\n",
       "      <td>0.082045</td>\n",
       "      <td>0.000000</td>\n",
       "      <td>5.190000</td>\n",
       "      <td>0.000000</td>\n",
       "      <td>0.449000</td>\n",
       "      <td>5.885500</td>\n",
       "      <td>45.025000</td>\n",
       "      <td>2.100175</td>\n",
       "      <td>4.000000</td>\n",
       "      <td>279.000000</td>\n",
       "      <td>17.400000</td>\n",
       "      <td>375.377500</td>\n",
       "      <td>6.950000</td>\n",
       "      <td>2027.252500</td>\n",
       "    </tr>\n",
       "    <tr>\n",
       "      <th>50%</th>\n",
       "      <td>0.256510</td>\n",
       "      <td>0.000000</td>\n",
       "      <td>9.690000</td>\n",
       "      <td>0.000000</td>\n",
       "      <td>0.538000</td>\n",
       "      <td>6.208500</td>\n",
       "      <td>77.500000</td>\n",
       "      <td>3.207450</td>\n",
       "      <td>5.000000</td>\n",
       "      <td>330.000000</td>\n",
       "      <td>19.050000</td>\n",
       "      <td>391.440000</td>\n",
       "      <td>11.360000</td>\n",
       "      <td>6006.290000</td>\n",
       "    </tr>\n",
       "    <tr>\n",
       "      <th>75%</th>\n",
       "      <td>3.677083</td>\n",
       "      <td>12.500000</td>\n",
       "      <td>18.100000</td>\n",
       "      <td>0.000000</td>\n",
       "      <td>0.624000</td>\n",
       "      <td>6.623500</td>\n",
       "      <td>94.075000</td>\n",
       "      <td>5.188425</td>\n",
       "      <td>24.000000</td>\n",
       "      <td>666.000000</td>\n",
       "      <td>20.200000</td>\n",
       "      <td>396.225000</td>\n",
       "      <td>16.955000</td>\n",
       "      <td>8850.107500</td>\n",
       "    </tr>\n",
       "    <tr>\n",
       "      <th>max</th>\n",
       "      <td>88.976200</td>\n",
       "      <td>100.000000</td>\n",
       "      <td>27.740000</td>\n",
       "      <td>1.000000</td>\n",
       "      <td>0.871000</td>\n",
       "      <td>8.780000</td>\n",
       "      <td>100.000000</td>\n",
       "      <td>12.126500</td>\n",
       "      <td>24.000000</td>\n",
       "      <td>711.000000</td>\n",
       "      <td>22.000000</td>\n",
       "      <td>396.900000</td>\n",
       "      <td>37.970000</td>\n",
       "      <td>10000.000000</td>\n",
       "    </tr>\n",
       "  </tbody>\n",
       "</table>\n",
       "</div>"
      ],
      "text/plain": [
       "             CRIM          ZN       INDUS        CHAS         NOX          RM  \\\n",
       "count  506.000000  506.000000  506.000000  506.000000  506.000000  506.000000   \n",
       "mean     3.613524   11.363636   11.136779    0.069170    0.554695    6.284634   \n",
       "std      8.601545   23.322453    6.860353    0.253994    0.115878    0.702617   \n",
       "min      0.006320    0.000000    0.460000    0.000000    0.385000    3.561000   \n",
       "25%      0.082045    0.000000    5.190000    0.000000    0.449000    5.885500   \n",
       "50%      0.256510    0.000000    9.690000    0.000000    0.538000    6.208500   \n",
       "75%      3.677083   12.500000   18.100000    0.000000    0.624000    6.623500   \n",
       "max     88.976200  100.000000   27.740000    1.000000    0.871000    8.780000   \n",
       "\n",
       "              AGE         DIS         RAD         TAX     PTRATIO           B  \\\n",
       "count  506.000000  506.000000  506.000000  506.000000  506.000000  506.000000   \n",
       "mean    68.574901    3.795043    9.549407  408.237154   18.455534  356.674032   \n",
       "std     28.148861    2.105710    8.707259  168.537116    2.164946   91.294864   \n",
       "min      2.900000    1.129600    1.000000  187.000000   12.600000    0.320000   \n",
       "25%     45.025000    2.100175    4.000000  279.000000   17.400000  375.377500   \n",
       "50%     77.500000    3.207450    5.000000  330.000000   19.050000  391.440000   \n",
       "75%     94.075000    5.188425   24.000000  666.000000   20.200000  396.225000   \n",
       "max    100.000000   12.126500   24.000000  711.000000   22.000000  396.900000   \n",
       "\n",
       "            LSTAT       age_age  \n",
       "count  506.000000    506.000000  \n",
       "mean    12.653063   5493.309545  \n",
       "std      7.141062   3449.600164  \n",
       "min      1.730000      8.410000  \n",
       "25%      6.950000   2027.252500  \n",
       "50%     11.360000   6006.290000  \n",
       "75%     16.955000   8850.107500  \n",
       "max     37.970000  10000.000000  "
      ]
     },
     "execution_count": 3,
     "metadata": {},
     "output_type": "execute_result"
    }
   ],
   "source": [
    "df.describe()"
   ]
  },
  {
   "cell_type": "code",
   "execution_count": 4,
   "metadata": {},
   "outputs": [
    {
     "name": "stdout",
     "output_type": "stream",
     "text": [
      "type of x2 = df.values :: <class 'numpy.ndarray'>\n",
      "shape of new boston data :: (506, 14)\n",
      "shape of data frame :: (506, 14)\n"
     ]
    }
   ],
   "source": [
    "### convert dataframe to numpy array\n",
    "x2 = df.values \n",
    "print(\"type of x2 = df.values ::\", type(x2))\n",
    "print(\"shape of new boston data ::\" , x2.shape)\n",
    "print(\"shape of data frame ::\", df.shape)"
   ]
  },
  {
   "cell_type": "code",
   "execution_count": 5,
   "metadata": {},
   "outputs": [],
   "source": [
    "## split the datasets into trining and testing datasets\n",
    "from sklearn import model_selection\n",
    "x_train , x_test , y_train , y_test = model_selection.train_test_split(x , y , random_state = 0)\n",
    "x2_train , x2_test , y2_train , y2_test = model_selection.train_test_split(x2 , y , random_state = 0)"
   ]
  },
  {
   "cell_type": "code",
   "execution_count": 6,
   "metadata": {},
   "outputs": [
    {
     "data": {
      "text/plain": [
       "LinearRegression(copy_X=True, fit_intercept=True, n_jobs=None, normalize=False)"
      ]
     },
     "execution_count": 6,
     "metadata": {},
     "output_type": "execute_result"
    }
   ],
   "source": [
    "## train your algorithm with training datasets\n",
    "from sklearn.linear_model import LinearRegression\n",
    "algo1 = LinearRegression()\n",
    "algo2 = LinearRegression()\n",
    "algo1.fit(x_train, y_train)\n",
    "algo2.fit(x2_train, y2_train)"
   ]
  },
  {
   "cell_type": "code",
   "execution_count": 7,
   "metadata": {},
   "outputs": [
    {
     "name": "stdout",
     "output_type": "stream",
     "text": [
      "train score of 1 : 0.7697699488741149\n",
      "train score of 2 : 0.7707245449911091\n",
      "test score of 1 : 0.6354638433202129\n",
      "test score of 2 : 0.6433109272342966\n"
     ]
    }
   ],
   "source": [
    "## test your algorithm\n",
    "train_score1 = algo1.score(x_train , y_train)\n",
    "test_score1 = algo1.score(x_test , y_test)\n",
    "train_score2 = algo2.score(x2_train , y2_train)\n",
    "test_score2 = algo2.score(x2_test , y2_test)\n",
    "\n",
    "print(\"train score of 1 :\" , train_score1)\n",
    "print(\"train score of 2 :\" , train_score2)\n",
    "print(\"test score of 1 :\" , test_score1)\n",
    "print(\"test score of 2 :\" , test_score2)"
   ]
  },
  {
   "cell_type": "markdown",
   "metadata": {},
   "source": [
    "# 2) gradient descent"
   ]
  },
  {
   "cell_type": "code",
   "execution_count": 8,
   "metadata": {},
   "outputs": [],
   "source": [
    "import numpy as np"
   ]
  },
  {
   "cell_type": "code",
   "execution_count": 9,
   "metadata": {},
   "outputs": [],
   "source": [
    "def cost(points, m, c):\n",
    "    total_cost = 0\n",
    "    N = len(points)\n",
    "    for i in range(N):\n",
    "        x = points[i , 0]\n",
    "        y = points[i , 1]\n",
    "        total_cost += (1/N) * ((y - m * x - c) ** 2)\n",
    "    return total_cost\n",
    "\n",
    "\n",
    "def step_gradient(points, learning_rate, m, c):\n",
    "    m_slope = 0\n",
    "    c_slope = 0\n",
    "    N = len(points)\n",
    "    for i in range(N):\n",
    "        x = points[i][0] ## 0th column of ith row\n",
    "        y = points[i, 1] ## 1st column of ith row\n",
    "        m_slope += (-2/N) * (y - m*x - c) * x\n",
    "        c_slope += (-2/N) * (y - m*x - c)\n",
    "    new_m = m - learning_rate * m_slope\n",
    "    new_c = c - learning_rate * c_slope\n",
    "    return new_m , new_c\n",
    "    \n",
    "    \n",
    "def gd(points, learning_rate, num_iteration):\n",
    "    m = 0; c = 0\n",
    "    for i in range(num_iteration):\n",
    "        m, c = step_gradient(points, learning_rate, m, c)\n",
    "        print(\"i :\", i, \" cost :\", cost(points, m, c))\n",
    "    return m, c\n",
    "\n",
    "def run():\n",
    "    data = np.loadtxt(\"data.csv\", delimiter = \",\")\n",
    "    learning_rate = 0.0001\n",
    "    num_iteration = 38\n",
    "    print(\"shape of data ::\", data.shape)\n",
    "    m, c = gd(data, learning_rate, num_iteration)\n",
    "    print(m, c)"
   ]
  },
  {
   "cell_type": "code",
   "execution_count": 10,
   "metadata": {},
   "outputs": [
    {
     "name": "stdout",
     "output_type": "stream",
     "text": [
      "shape of data :: (100, 2)\n",
      "i : 0  cost : 1484.5865574086486\n",
      "i : 1  cost : 457.8542575737672\n",
      "i : 2  cost : 199.5099857255389\n",
      "i : 3  cost : 134.50591058200533\n",
      "i : 4  cost : 118.1496934223995\n",
      "i : 5  cost : 114.0341490603815\n",
      "i : 6  cost : 112.99857731713657\n",
      "i : 7  cost : 112.73798187568467\n",
      "i : 8  cost : 112.6723843590911\n",
      "i : 9  cost : 112.65585181499745\n",
      "i : 10  cost : 112.65166489759581\n",
      "i : 11  cost : 112.6505843615011\n",
      "i : 12  cost : 112.65028544701502\n",
      "i : 13  cost : 112.65018320293967\n",
      "i : 14  cost : 112.650130445072\n",
      "i : 15  cost : 112.65009013922885\n",
      "i : 16  cost : 112.6500529669463\n",
      "i : 17  cost : 112.65001658353178\n",
      "i : 18  cost : 112.64998039901865\n",
      "i : 19  cost : 112.64994426496071\n",
      "i : 20  cost : 112.64990814400622\n",
      "i : 21  cost : 112.64987202675677\n",
      "i : 22  cost : 112.64983591084761\n",
      "i : 23  cost : 112.64979979568368\n",
      "i : 24  cost : 112.64976368111523\n",
      "i : 25  cost : 112.64972756710469\n",
      "i : 26  cost : 112.64969145364236\n",
      "i : 27  cost : 112.64965534072611\n",
      "i : 28  cost : 112.64961922835512\n",
      "i : 29  cost : 112.64958311652944\n",
      "i : 30  cost : 112.64954700524868\n",
      "i : 31  cost : 112.64951089451318\n",
      "i : 32  cost : 112.64947478432279\n",
      "i : 33  cost : 112.64943867467744\n",
      "i : 34  cost : 112.64940256557728\n",
      "i : 35  cost : 112.64936645702221\n",
      "i : 36  cost : 112.64933034901203\n",
      "i : 37  cost : 112.64929424154704\n",
      "1.4788759106351557 0.03135102019557585\n"
     ]
    }
   ],
   "source": [
    "run()"
   ]
  },
  {
   "cell_type": "markdown",
   "metadata": {},
   "source": [
    "# 3) Generic Gradient Descent"
   ]
  },
  {
   "cell_type": "code",
   "execution_count": 11,
   "metadata": {},
   "outputs": [],
   "source": [
    "## to do"
   ]
  },
  {
   "cell_type": "markdown",
   "metadata": {},
   "source": [
    "# 4) stochatic and mini batch gradient "
   ]
  },
  {
   "cell_type": "code",
   "execution_count": 12,
   "metadata": {},
   "outputs": [],
   "source": [
    "## to do"
   ]
  }
 ],
 "metadata": {
  "kernelspec": {
   "display_name": "Python 3",
   "language": "python",
   "name": "python3"
  },
  "language_info": {
   "codemirror_mode": {
    "name": "ipython",
    "version": 3
   },
   "file_extension": ".py",
   "mimetype": "text/x-python",
   "name": "python",
   "nbconvert_exporter": "python",
   "pygments_lexer": "ipython3",
   "version": "3.7.6"
  }
 },
 "nbformat": 4,
 "nbformat_minor": 2
}
