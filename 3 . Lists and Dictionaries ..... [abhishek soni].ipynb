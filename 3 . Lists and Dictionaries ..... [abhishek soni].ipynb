{
 "cells": [
  {
   "cell_type": "markdown",
   "metadata": {},
   "source": [
    "# # Lists\n",
    "### == > it is same as array in c++ , but it can also store multiple data types at the same time "
   ]
  },
  {
   "cell_type": "code",
   "execution_count": 1,
   "metadata": {},
   "outputs": [
    {
     "name": "stdout",
     "output_type": "stream",
     "text": [
      "<class 'list'>\n",
      "[]\n",
      "[1, 2, 3]\n",
      "[0, 1, 2, 3, 4, 5, 6, 7, 8, 9]\n",
      "[0, 1, 4, 9, 16, 25, 36, 49, 64, 81]\n",
      "[1, 2, 'as', True]\n"
     ]
    }
   ],
   "source": [
    "# creating lists\n",
    "a = [1,2,3]\n",
    "print(type(a))\n",
    "\n",
    "a1 = list()\n",
    "print(a1)\n",
    "\n",
    "a2 = list(a)\n",
    "print(a2)\n",
    "\n",
    "a4 = [ i for i in range(10)]  ## for range from 0 to 10 set i\n",
    "print(a4)\n",
    "\n",
    "a5 = [ i*i for i in range(10)]\n",
    "print(a5)\n",
    "\n",
    "a6 = [1,2,\"as\",True]\n",
    "print(a6)\n"
   ]
  },
  {
   "cell_type": "code",
   "execution_count": 2,
   "metadata": {},
   "outputs": [
    {
     "name": "stdout",
     "output_type": "stream",
     "text": [
      "2\n",
      "3\n",
      "len :  3\n"
     ]
    }
   ],
   "source": [
    "#how to access data\n",
    "print(a[1])\n",
    "print(a[-1])\n",
    "\n",
    "# len of array\n",
    "print(\"len : \",len(a))"
   ]
  },
  {
   "cell_type": "markdown",
   "metadata": {},
   "source": [
    "## 1) slicing and fast iteration in lists"
   ]
  },
  {
   "cell_type": "code",
   "execution_count": 3,
   "metadata": {},
   "outputs": [
    {
     "name": "stdout",
     "output_type": "stream",
     "text": [
      "[2]\n",
      "1\n",
      "2\n",
      "3\n"
     ]
    }
   ],
   "source": [
    "# slicing of array\n",
    "print(a[1:2])\n",
    "\n",
    "# fast iteration\n",
    "for i in a :\n",
    "    print(i)"
   ]
  },
  {
   "cell_type": "markdown",
   "metadata": {},
   "source": [
    "## 2) string spliting"
   ]
  },
  {
   "cell_type": "code",
   "execution_count": 4,
   "metadata": {},
   "outputs": [
    {
     "name": "stdout",
     "output_type": "stream",
     "text": [
      "['', 'a', 'abc', 'd', 'ef', 'ghf', '']\n",
      "['a', 'df', 'd', 'dsds']\n",
      "['a', 'bcd', 'dsd', 'dwd']\n"
     ]
    }
   ],
   "source": [
    "## returns a list after the spliting that string on the basis of \" \"\n",
    "str = \" a abc d ef ghf \"\n",
    "print(str.split(\" \"))\n",
    "\n",
    "str = \" a df  d dsds \"\n",
    "print(str.split())\n",
    "\n",
    "str = \"a,bcd,dsd,dwd\"\n",
    "print(str.split(\",\"))"
   ]
  },
  {
   "cell_type": "markdown",
   "metadata": {},
   "source": [
    "## 3) user input"
   ]
  },
  {
   "cell_type": "code",
   "execution_count": 5,
   "metadata": {},
   "outputs": [
    {
     "name": "stdout",
     "output_type": "stream",
     "text": [
      "1 2 3 4 5 6\n",
      "['1', '2', '3', '4', '5', '6']\n",
      "[1, 2, 3, 4, 5, 6]\n",
      "\n",
      "1 2 3 4 5\n",
      "['1', '2', '3', '4', '5']\n",
      "[1, 2, 3, 4, 5]\n",
      "\n",
      " 1  2  4 5   6\n",
      "[1, 2, 4, 5, 6]\n"
     ]
    }
   ],
   "source": [
    "########## 1st method ###########\n",
    "list1 = input().strip().split()\n",
    "print(list1)\n",
    "for i in range(len(list1)):\n",
    "    list1[i] = int(list1[i])\n",
    "print(list1)\n",
    "print()\n",
    "\n",
    "########## 2nd method ###########\n",
    "list = input().split()\n",
    "print(list)\n",
    "for i in range(len(list)):\n",
    "    list[i] = int(list[i])\n",
    "print(list)\n",
    "print()\n",
    "\n",
    "########## 3rd method ###########\n",
    "### one line for taking array input\n",
    "\n",
    "arr = [int(x) for x in input().split()]\n",
    "print(arr)\n"
   ]
  },
  {
   "cell_type": "markdown",
   "metadata": {},
   "source": [
    "## 4) add elements in a lists ( append , insert , extend )"
   ]
  },
  {
   "cell_type": "code",
   "execution_count": 6,
   "metadata": {},
   "outputs": [
    {
     "name": "stdout",
     "output_type": "stream",
     "text": [
      "[1, 2, 3, 9]\n",
      "[1, 243, 2, 3, 9]\n",
      "[1, 243, 2, 3, 9, 2, 3, 4]\n"
     ]
    }
   ],
   "source": [
    "l = [1,2,3]\n",
    "l.append(9)\n",
    "print(l)\n",
    "l.insert(1,243)\n",
    "print(l)\n",
    "\n",
    "l2 = [2,3,4]\n",
    "l.extend(l2)\n",
    "print(l)"
   ]
  },
  {
   "cell_type": "markdown",
   "metadata": {},
   "source": [
    "## 5) deleting elements ( pop , remove , del )"
   ]
  },
  {
   "cell_type": "code",
   "execution_count": 7,
   "metadata": {},
   "outputs": [
    {
     "name": "stdout",
     "output_type": "stream",
     "text": [
      "[1, 243, 2, 3, 9, 2, 3, 4]\n",
      "[1, 243, 2, 3, 9, 2, 3]\n",
      "[1, 243, 3, 9, 2, 3]\n",
      "[1, 243, 3, 9, 3]\n",
      "[3, 9, 3]\n"
     ]
    }
   ],
   "source": [
    "print(l)\n",
    "\n",
    "l.pop()    ## without arguments its going to remove the last element\n",
    "print(l)\n",
    "\n",
    "l.pop(2)  ## remove element at index 2\n",
    "print(l)\n",
    "\n",
    "l.remove(2)  ## remove first occurance of that elements\n",
    "print(l)\n",
    "\n",
    "del l[0:2]   ## delete this range from the list\n",
    "print(l)\n",
    "\n",
    "\n"
   ]
  },
  {
   "cell_type": "markdown",
   "metadata": {},
   "source": [
    "## 6) concatenation of two lists"
   ]
  },
  {
   "cell_type": "code",
   "execution_count": 8,
   "metadata": {},
   "outputs": [
    {
     "name": "stdout",
     "output_type": "stream",
     "text": [
      "[1, 2, 3, 1, 2, 3]\n",
      "[1, 2, 3, 1, 2, 3, 1, 2, 3, 1, 2, 3, 1, 2, 3, 1, 2, 3]\n"
     ]
    }
   ],
   "source": [
    "l = [1,2,3]\n",
    "l = l + l\n",
    "# l = l - l ## there is - operation possible\n",
    "print(l)\n",
    "l*=3     \n",
    "print(l)"
   ]
  },
  {
   "cell_type": "markdown",
   "metadata": {},
   "source": [
    "## 7) some useful inbuild functions (sort , count , index , in , reverse , max , min , len)"
   ]
  },
  {
   "cell_type": "code",
   "execution_count": 9,
   "metadata": {},
   "outputs": [
    {
     "name": "stdout",
     "output_type": "stream",
     "text": [
      "[0, 1, 1, 2, 3, 5, 13, 64]\n",
      "8\n",
      "2\n",
      "7\n",
      "[64, 13, 5, 3, 2, 1, 1, 0]\n",
      "found\n",
      "64\n",
      "0\n"
     ]
    }
   ],
   "source": [
    "#sorting \n",
    "l = [2,5,1,3,64,13,0,1]\n",
    "l.sort()\n",
    "print(l)\n",
    "print(len(l))\n",
    "\n",
    "# count , index , reverse\n",
    "print(l.count(1))  ## count element 1 in the array\n",
    "print(l.index(64))  ## find index of element \n",
    "l.reverse()         ## reverse the array\n",
    "print(l)\n",
    "\n",
    "if 64 in l:         ## boolean function is present or not\n",
    "    print(\"found\")\n",
    "else:\n",
    "    print(\"not_found\")\n",
    "    \n",
    "    \n",
    "print(max(l))      ## find the maximum element in the list\n",
    "print(min(l))      ## find the minimum element in the list"
   ]
  },
  {
   "cell_type": "markdown",
   "metadata": {},
   "source": [
    "## 8) bubble sort"
   ]
  },
  {
   "cell_type": "code",
   "execution_count": 10,
   "metadata": {},
   "outputs": [
    {
     "name": "stdout",
     "output_type": "stream",
     "text": [
      "-9 0 -7 3  69 0 \n",
      "[-9, 0, -7, 3, 69, 0]\n",
      "[-9, -7, 0, 0, 3, 69]\n"
     ]
    }
   ],
   "source": [
    "## bubble sort \n",
    "l = [int(x) for x in input().split()]\n",
    "print(l)\n",
    "\n",
    "n = len(l)\n",
    "for j in range(n-1):\n",
    "    for i in range(0,n-1-j):\n",
    "        if(l[i] > l[i+1]):\n",
    "            l[i],l[i+1] = l[i+1],l[i]\n",
    "print(l)"
   ]
  },
  {
   "cell_type": "markdown",
   "metadata": {},
   "source": [
    "# # Dictionaries\n",
    "### === > it is same as map in c++ , here we can store different types of keys and values but in c++ we have to create a different map for different type of keys and values . ex : map<pair<int,int> , int> mp ....... this will store pair as a key always and integer as value but in python we can store anything.  keys are immutable therefore keys can be string , int ,float but it not be a list"
   ]
  },
  {
   "cell_type": "code",
   "execution_count": 11,
   "metadata": {},
   "outputs": [
    {
     "name": "stdout",
     "output_type": "stream",
     "text": [
      "34\n",
      "<class 'int'>\n",
      "{23: 34, 'str': 31}\n",
      "\n",
      " traversing on map\n",
      "23 : 34\n",
      "str : 31\n",
      "over\n",
      "{'str': 31}\n"
     ]
    }
   ],
   "source": [
    "d = {}\n",
    "d[23] = 34\n",
    "d[3 , 4] = 32\n",
    "d[\"str\"] = 31\n",
    "print(d[23])\n",
    "print(type(d[23]))\n",
    "\n",
    "d = {23 : 34 , \"str\" : 31}\n",
    "print(d)\n",
    "\n",
    "\n",
    "### fast iteration on dictionaries\n",
    "print(\"\\n\" , \"traversing on map\")\n",
    "for i in d:                          ### in C++ i is pair of key and value but here it is key\n",
    "    print(i , \":\" , d[i])\n",
    "print(\"over\")\n",
    "### delete elements\n",
    "\n",
    "del d[23]\n",
    "print(d)\n",
    "\n"
   ]
  },
  {
   "cell_type": "code",
   "execution_count": 12,
   "metadata": {},
   "outputs": [
    {
     "name": "stdout",
     "output_type": "stream",
     "text": [
      "False\n",
      "1\n",
      "{}\n",
      "dict_keys([2])\n",
      "dict_values([3])\n",
      "False\n"
     ]
    }
   ],
   "source": [
    "# common functions in dictionaries\n",
    "d1 = {}\n",
    "d1[1] = 1\n",
    "d2 = {}\n",
    "d2[2] = 3\n",
    "\n",
    "print(d1 == d2)\n",
    "\n",
    "\n",
    "print(len(d1))\n",
    "\n",
    "d1.clear()\n",
    "print(d1)\n",
    "\n",
    "print(d2.keys()) ## behave like a list\n",
    "print(d2.values()) ## behave like a list\n",
    "\n",
    "print(23 in d2) ## is this key is present or not\n"
   ]
  }
 ],
 "metadata": {
  "kernelspec": {
   "display_name": "Python 3",
   "language": "python",
   "name": "python3"
  },
  "language_info": {
   "codemirror_mode": {
    "name": "ipython",
    "version": 3
   },
   "file_extension": ".py",
   "mimetype": "text/x-python",
   "name": "python",
   "nbconvert_exporter": "python",
   "pygments_lexer": "ipython3",
   "version": "3.7.4"
  }
 },
 "nbformat": 4,
 "nbformat_minor": 2
}
