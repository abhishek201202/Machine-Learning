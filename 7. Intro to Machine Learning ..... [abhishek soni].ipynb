{
 "cells": [
  {
   "cell_type": "markdown",
   "metadata": {},
   "source": [
    "#  #1 AI (Artificial Intelligence) :\n",
    "    - lets make some how make machine intelligent so that, they can take smart decission.\n",
    "      ex : smart home , smart car\n",
    "    - 2 ways to take decissions are :-)\n",
    "        a) As a programmer write rules in the form of programme for machine so that they can take smart decission.\n",
    "        b) write programmes in such a way that they can take decission on the basis of previous occured events data.\n",
    "            \n",
    "### rule based intelligence:\n",
    "In computer science, a rule-based system is a set of \"if-then\" statements that uses a set of assertions, to which rules on how to act upon those assertions are created. Rule-based systems are also used in AI (artificial intelligence) programming and systems.\n",
    "    \n",
    "    \n",
    "### domains of AI\n",
    "    => machine learning\n",
    "    => Natural Language Processing\n",
    "    => Computer Vision tech\n",
    "    => Voice Recognition tech\n",
    "    => High precision motion sensing intelligent machine\n",
    "            \n",
    "#  #2 ML(Machine Learning) :\n",
    "    => It is a field of computer science that gives computer the ability to learn without being explicitly programmed\n",
    "    => It is a subset of AI\n",
    "####  Examples\n",
    "###### 1) Web Domain :\n",
    "ads , recommendation on website\n",
    "###### 2) Used by Oil Company\n",
    "pinpointing  exactly where to dig , IOT, to predict operational outcomes , to improve subsurface characterisation.\n",
    "###### 3) Real World\n",
    "self driving car , smart home\n",
    "###### 4) Data Mining\n",
    "Practise of examining large pre existing database in order to generate new information.\n",
    "###### 5) In HealthCare\n",
    "1) heart disease diagnosis : automated heart disease diagnosis system.\n",
    "\n",
    "2) Predicting diabetes : use to detect and stop it at early stages.\n",
    "\n",
    "3) Prediction of liver Disease : to predict liver disease like - cirrhosis , chronic hepatitis , liver cancer etc.\n",
    "\n",
    "4) Robotics surgery : suturing , surgical skill evaluation , improvement of robotic surgical materials , and surgical workflow modelling , as in neurosurgery robot are not able to operate effectively.The manual workflow is time consuming , and it can not provide automatic feedback.Using ml approach , it can speed up the system.\n",
    "\n",
    "5) Cancer Detection and Prediction : a study showed that deep learning reduces the % of error for brest cancer diagnosis.\n",
    "\n",
    "6) Personalized treatment : skinVision app (it is a app , one can check for skin cancer on his/her phone)\n",
    "\n",
    "7) Drug discovery : used in drug discovery input mol. ====||====> molecular properties\n",
    "\n",
    "                                        mol.training sets\n",
    "\n",
    "8) Radiology : to speedup the detection process\n",
    "\n",
    "### types of ml\n",
    "    1. supervised learning     : past experience that you have is labelled with the output.\n",
    "                                 ex - houes and their properties , predicting type of tubour\n",
    "    2. unsupervised learning   : try to find a pattern into the input the data set.\n",
    "                                 ex - cluster all people at fb into grps of their similarity , in this case we don't know \n",
    "                                 the output , here input data is not clearly marked with the output\n",
    "    3. Reinforcement learning  : it is same as how we get train some thing\n",
    "                                 ex - 1 ) self driving car\n",
    "                                      2 ) train a chess game ... after playing a lots of game software can able to decide \n",
    "                                          what moves are good for him and what are \n",
    "\n",
    "    "
   ]
  },
  {
   "cell_type": "markdown",
   "metadata": {},
   "source": [
    "# #3 supervised learning\n",
    "   => given training data we have given output data as well\n",
    "   => ex : Cortana or any speech automated system in your mobile phone\n",
    "           trains your voice and then starts working based on this training.\n",
    "   => types\n",
    "       #1 regression     : continuous spectrum of ouput\n",
    "                           ex - house predicting system , in this case if a new house is come then its price may be of any\n",
    "                           range.\n",
    "                           \n",
    "                         : if we again decide whether this house has price\n",
    "                           price > 100000000\n",
    "                           100000 < price <= 100000000\n",
    "                           0 <= price <= 100000\n",
    "                           this is now become problem of classification but if we have to actually predict the price then \n",
    "                           it's the problem of regression.\n",
    "       \n",
    "       #2 classification : output have some classification\n",
    "                           ex - given a set of images on which numbers are written from (0 to 9) , now if a new image is\n",
    "                           come we have to predict which number is written  on that."
   ]
  },
  {
   "cell_type": "markdown",
   "metadata": {},
   "source": [
    "# #3.1 steps for supervised learning\n",
    "\n",
    " => training data are given , in form of matrix  (m , n + 1)\n",
    " => first n columns are features of that particular data \n",
    " => (n+1) th column of the ith data is it's output. \n",
    " \n",
    " #1 ) find the data : from where do i get my data.\n",
    "                  ex : for project's for any company then it easily                   available from the company database\n",
    " #2 ) Data loading and cleaning : if data is coming from two or more\n",
    "                         sources then we have to clean those data which are present in one but not present in other dataset or fill the data smartly.\n",
    "                         \n",
    "##### for cleaning we need to clean lots of strings , so best way of cleaning is to convert your string data into integer data as it is easy to handle\n",
    "##### sometime we will be adding some new col into the combine dataset\n",
    " #3 ) Train the algorithm\n",
    "      (X , Y) --> traing data --> goes for training into algorithm\n",
    " #4 ) testing\n",
    "      (X_test) --> goes for prediction into algorithm --> (Y_test)\n",
    "      \n",
    "#### let say there are 100 data points for a project to be evaluated for u , but for now we are given with only 80 data points to make the algorithm and after that when we submit our algorithm this 20 data points will evaluate how good or bad is our algorithm ............so now that mean you have 80 data points with you to make algorithm ............... 1) divide data into two parts let say (56 + 24)..... 2) train your algorithm with this 56 data points and check with other 24  data points , if algo gives you the correct result for your 24 dataset then COOL !!!!!!!\n",
    "\n",
    "\n",
    "      "
   ]
  },
  {
   "cell_type": "markdown",
   "metadata": {},
   "source": [
    "## A) Loading....... Boston Data \n",
    "we will be using SK (Scikit - Learn) Learn :- \n",
    "#1) this module provide's lots of various ML algorithm \n",
    "#2) also provide lots of sample datasets , ex : boston "
   ]
  },
  {
   "cell_type": "code",
   "execution_count": 2,
   "metadata": {},
   "outputs": [],
   "source": [
    "from sklearn import datasets"
   ]
  },
  {
   "cell_type": "code",
   "execution_count": 3,
   "metadata": {},
   "outputs": [
    {
     "data": {
      "text/plain": [
       "sklearn.utils.Bunch"
      ]
     },
     "execution_count": 3,
     "metadata": {},
     "output_type": "execute_result"
    }
   ],
   "source": [
    "boston = datasets.load_boston()\n",
    "X = boston.data\n",
    "Y  = boston.target\n",
    "type(boston)"
   ]
  },
  {
   "cell_type": "code",
   "execution_count": 4,
   "metadata": {},
   "outputs": [
    {
     "data": {
      "text/plain": [
       "array([[6.3200e-03, 1.8000e+01, 2.3100e+00, ..., 1.5300e+01, 3.9690e+02,\n",
       "        4.9800e+00],\n",
       "       [2.7310e-02, 0.0000e+00, 7.0700e+00, ..., 1.7800e+01, 3.9690e+02,\n",
       "        9.1400e+00],\n",
       "       [2.7290e-02, 0.0000e+00, 7.0700e+00, ..., 1.7800e+01, 3.9283e+02,\n",
       "        4.0300e+00],\n",
       "       ...,\n",
       "       [6.0760e-02, 0.0000e+00, 1.1930e+01, ..., 2.1000e+01, 3.9690e+02,\n",
       "        5.6400e+00],\n",
       "       [1.0959e-01, 0.0000e+00, 1.1930e+01, ..., 2.1000e+01, 3.9345e+02,\n",
       "        6.4800e+00],\n",
       "       [4.7410e-02, 0.0000e+00, 1.1930e+01, ..., 2.1000e+01, 3.9690e+02,\n",
       "        7.8800e+00]])"
      ]
     },
     "execution_count": 4,
     "metadata": {},
     "output_type": "execute_result"
    }
   ],
   "source": [
    "X"
   ]
  },
  {
   "cell_type": "code",
   "execution_count": 5,
   "metadata": {},
   "outputs": [
    {
     "name": "stdout",
     "output_type": "stream",
     "text": [
      "<class 'numpy.ndarray'>\n"
     ]
    },
    {
     "data": {
      "text/plain": [
       "(506, 13)"
      ]
     },
     "execution_count": 5,
     "metadata": {},
     "output_type": "execute_result"
    }
   ],
   "source": [
    "print(type(X))\n",
    "X.shape"
   ]
  },
  {
   "cell_type": "code",
   "execution_count": 6,
   "metadata": {},
   "outputs": [
    {
     "name": "stdout",
     "output_type": "stream",
     "text": [
      "['CRIM' 'ZN' 'INDUS' 'CHAS' 'NOX' 'RM' 'AGE' 'DIS' 'RAD' 'TAX' 'PTRATIO'\n",
      " 'B' 'LSTAT']\n"
     ]
    },
    {
     "data": {
      "text/html": [
       "<div>\n",
       "<style scoped>\n",
       "    .dataframe tbody tr th:only-of-type {\n",
       "        vertical-align: middle;\n",
       "    }\n",
       "\n",
       "    .dataframe tbody tr th {\n",
       "        vertical-align: top;\n",
       "    }\n",
       "\n",
       "    .dataframe thead th {\n",
       "        text-align: right;\n",
       "    }\n",
       "</style>\n",
       "<table border=\"1\" class=\"dataframe\">\n",
       "  <thead>\n",
       "    <tr style=\"text-align: right;\">\n",
       "      <th></th>\n",
       "      <th>CRIM</th>\n",
       "      <th>ZN</th>\n",
       "      <th>INDUS</th>\n",
       "      <th>CHAS</th>\n",
       "      <th>NOX</th>\n",
       "      <th>RM</th>\n",
       "      <th>AGE</th>\n",
       "      <th>DIS</th>\n",
       "      <th>RAD</th>\n",
       "      <th>TAX</th>\n",
       "      <th>PTRATIO</th>\n",
       "      <th>B</th>\n",
       "      <th>LSTAT</th>\n",
       "    </tr>\n",
       "  </thead>\n",
       "  <tbody>\n",
       "    <tr>\n",
       "      <td>count</td>\n",
       "      <td>506.000000</td>\n",
       "      <td>506.000000</td>\n",
       "      <td>506.000000</td>\n",
       "      <td>506.000000</td>\n",
       "      <td>506.000000</td>\n",
       "      <td>506.000000</td>\n",
       "      <td>506.000000</td>\n",
       "      <td>506.000000</td>\n",
       "      <td>506.000000</td>\n",
       "      <td>506.000000</td>\n",
       "      <td>506.000000</td>\n",
       "      <td>506.000000</td>\n",
       "      <td>506.000000</td>\n",
       "    </tr>\n",
       "    <tr>\n",
       "      <td>mean</td>\n",
       "      <td>3.613524</td>\n",
       "      <td>11.363636</td>\n",
       "      <td>11.136779</td>\n",
       "      <td>0.069170</td>\n",
       "      <td>0.554695</td>\n",
       "      <td>6.284634</td>\n",
       "      <td>68.574901</td>\n",
       "      <td>3.795043</td>\n",
       "      <td>9.549407</td>\n",
       "      <td>408.237154</td>\n",
       "      <td>18.455534</td>\n",
       "      <td>356.674032</td>\n",
       "      <td>12.653063</td>\n",
       "    </tr>\n",
       "    <tr>\n",
       "      <td>std</td>\n",
       "      <td>8.601545</td>\n",
       "      <td>23.322453</td>\n",
       "      <td>6.860353</td>\n",
       "      <td>0.253994</td>\n",
       "      <td>0.115878</td>\n",
       "      <td>0.702617</td>\n",
       "      <td>28.148861</td>\n",
       "      <td>2.105710</td>\n",
       "      <td>8.707259</td>\n",
       "      <td>168.537116</td>\n",
       "      <td>2.164946</td>\n",
       "      <td>91.294864</td>\n",
       "      <td>7.141062</td>\n",
       "    </tr>\n",
       "    <tr>\n",
       "      <td>min</td>\n",
       "      <td>0.006320</td>\n",
       "      <td>0.000000</td>\n",
       "      <td>0.460000</td>\n",
       "      <td>0.000000</td>\n",
       "      <td>0.385000</td>\n",
       "      <td>3.561000</td>\n",
       "      <td>2.900000</td>\n",
       "      <td>1.129600</td>\n",
       "      <td>1.000000</td>\n",
       "      <td>187.000000</td>\n",
       "      <td>12.600000</td>\n",
       "      <td>0.320000</td>\n",
       "      <td>1.730000</td>\n",
       "    </tr>\n",
       "    <tr>\n",
       "      <td>25%</td>\n",
       "      <td>0.082045</td>\n",
       "      <td>0.000000</td>\n",
       "      <td>5.190000</td>\n",
       "      <td>0.000000</td>\n",
       "      <td>0.449000</td>\n",
       "      <td>5.885500</td>\n",
       "      <td>45.025000</td>\n",
       "      <td>2.100175</td>\n",
       "      <td>4.000000</td>\n",
       "      <td>279.000000</td>\n",
       "      <td>17.400000</td>\n",
       "      <td>375.377500</td>\n",
       "      <td>6.950000</td>\n",
       "    </tr>\n",
       "    <tr>\n",
       "      <td>50%</td>\n",
       "      <td>0.256510</td>\n",
       "      <td>0.000000</td>\n",
       "      <td>9.690000</td>\n",
       "      <td>0.000000</td>\n",
       "      <td>0.538000</td>\n",
       "      <td>6.208500</td>\n",
       "      <td>77.500000</td>\n",
       "      <td>3.207450</td>\n",
       "      <td>5.000000</td>\n",
       "      <td>330.000000</td>\n",
       "      <td>19.050000</td>\n",
       "      <td>391.440000</td>\n",
       "      <td>11.360000</td>\n",
       "    </tr>\n",
       "    <tr>\n",
       "      <td>75%</td>\n",
       "      <td>3.677083</td>\n",
       "      <td>12.500000</td>\n",
       "      <td>18.100000</td>\n",
       "      <td>0.000000</td>\n",
       "      <td>0.624000</td>\n",
       "      <td>6.623500</td>\n",
       "      <td>94.075000</td>\n",
       "      <td>5.188425</td>\n",
       "      <td>24.000000</td>\n",
       "      <td>666.000000</td>\n",
       "      <td>20.200000</td>\n",
       "      <td>396.225000</td>\n",
       "      <td>16.955000</td>\n",
       "    </tr>\n",
       "    <tr>\n",
       "      <td>max</td>\n",
       "      <td>88.976200</td>\n",
       "      <td>100.000000</td>\n",
       "      <td>27.740000</td>\n",
       "      <td>1.000000</td>\n",
       "      <td>0.871000</td>\n",
       "      <td>8.780000</td>\n",
       "      <td>100.000000</td>\n",
       "      <td>12.126500</td>\n",
       "      <td>24.000000</td>\n",
       "      <td>711.000000</td>\n",
       "      <td>22.000000</td>\n",
       "      <td>396.900000</td>\n",
       "      <td>37.970000</td>\n",
       "    </tr>\n",
       "  </tbody>\n",
       "</table>\n",
       "</div>"
      ],
      "text/plain": [
       "             CRIM          ZN       INDUS        CHAS         NOX          RM  \\\n",
       "count  506.000000  506.000000  506.000000  506.000000  506.000000  506.000000   \n",
       "mean     3.613524   11.363636   11.136779    0.069170    0.554695    6.284634   \n",
       "std      8.601545   23.322453    6.860353    0.253994    0.115878    0.702617   \n",
       "min      0.006320    0.000000    0.460000    0.000000    0.385000    3.561000   \n",
       "25%      0.082045    0.000000    5.190000    0.000000    0.449000    5.885500   \n",
       "50%      0.256510    0.000000    9.690000    0.000000    0.538000    6.208500   \n",
       "75%      3.677083   12.500000   18.100000    0.000000    0.624000    6.623500   \n",
       "max     88.976200  100.000000   27.740000    1.000000    0.871000    8.780000   \n",
       "\n",
       "              AGE         DIS         RAD         TAX     PTRATIO           B  \\\n",
       "count  506.000000  506.000000  506.000000  506.000000  506.000000  506.000000   \n",
       "mean    68.574901    3.795043    9.549407  408.237154   18.455534  356.674032   \n",
       "std     28.148861    2.105710    8.707259  168.537116    2.164946   91.294864   \n",
       "min      2.900000    1.129600    1.000000  187.000000   12.600000    0.320000   \n",
       "25%     45.025000    2.100175    4.000000  279.000000   17.400000  375.377500   \n",
       "50%     77.500000    3.207450    5.000000  330.000000   19.050000  391.440000   \n",
       "75%     94.075000    5.188425   24.000000  666.000000   20.200000  396.225000   \n",
       "max    100.000000   12.126500   24.000000  711.000000   22.000000  396.900000   \n",
       "\n",
       "            LSTAT  \n",
       "count  506.000000  \n",
       "mean    12.653063  \n",
       "std      7.141062  \n",
       "min      1.730000  \n",
       "25%      6.950000  \n",
       "50%     11.360000  \n",
       "75%     16.955000  \n",
       "max     37.970000  "
      ]
     },
     "execution_count": 6,
     "metadata": {},
     "output_type": "execute_result"
    }
   ],
   "source": [
    "import pandas as pd\n",
    "df = pd.DataFrame(X)\n",
    "print(boston.feature_names)\n",
    "df.columns = boston.feature_names\n",
    "df.describe()"
   ]
  },
  {
   "cell_type": "code",
   "execution_count": 7,
   "metadata": {},
   "outputs": [
    {
     "data": {
      "text/plain": [
       "\".. _boston_dataset:\\n\\nBoston house prices dataset\\n---------------------------\\n\\n**Data Set Characteristics:**  \\n\\n    :Number of Instances: 506 \\n\\n    :Number of Attributes: 13 numeric/categorical predictive. Median Value (attribute 14) is usually the target.\\n\\n    :Attribute Information (in order):\\n        - CRIM     per capita crime rate by town\\n        - ZN       proportion of residential land zoned for lots over 25,000 sq.ft.\\n        - INDUS    proportion of non-retail business acres per town\\n        - CHAS     Charles River dummy variable (= 1 if tract bounds river; 0 otherwise)\\n        - NOX      nitric oxides concentration (parts per 10 million)\\n        - RM       average number of rooms per dwelling\\n        - AGE      proportion of owner-occupied units built prior to 1940\\n        - DIS      weighted distances to five Boston employment centres\\n        - RAD      index of accessibility to radial highways\\n        - TAX      full-value property-tax rate per $10,000\\n        - PTRATIO  pupil-teacher ratio by town\\n        - B        1000(Bk - 0.63)^2 where Bk is the proportion of blacks by town\\n        - LSTAT    % lower status of the population\\n        - MEDV     Median value of owner-occupied homes in $1000's\\n\\n    :Missing Attribute Values: None\\n\\n    :Creator: Harrison, D. and Rubinfeld, D.L.\\n\\nThis is a copy of UCI ML housing dataset.\\nhttps://archive.ics.uci.edu/ml/machine-learning-databases/housing/\\n\\n\\nThis dataset was taken from the StatLib library which is maintained at Carnegie Mellon University.\\n\\nThe Boston house-price data of Harrison, D. and Rubinfeld, D.L. 'Hedonic\\nprices and the demand for clean air', J. Environ. Economics & Management,\\nvol.5, 81-102, 1978.   Used in Belsley, Kuh & Welsch, 'Regression diagnostics\\n...', Wiley, 1980.   N.B. Various transformations are used in the table on\\npages 244-261 of the latter.\\n\\nThe Boston house-price data has been used in many machine learning papers that address regression\\nproblems.   \\n     \\n.. topic:: References\\n\\n   - Belsley, Kuh & Welsch, 'Regression diagnostics: Identifying Influential Data and Sources of Collinearity', Wiley, 1980. 244-261.\\n   - Quinlan,R. (1993). Combining Instance-Based and Model-Based Learning. In Proceedings on the Tenth International Conference of Machine Learning, 236-243, University of Massachusetts, Amherst. Morgan Kaufmann.\\n\""
      ]
     },
     "execution_count": 7,
     "metadata": {},
     "output_type": "execute_result"
    }
   ],
   "source": [
    "boston.DESCR"
   ]
  },
  {
   "cell_type": "markdown",
   "metadata": {},
   "source": [
    "## B) Training an Algorithm\n",
    "###### -------> first split the data and then train\n",
    "######  ------> splitting will done randomly , coz sometimes data could be in chronological order you might not predict the future trend with this data sets , so it better to split randomly"
   ]
  },
  {
   "cell_type": "code",
   "execution_count": 8,
   "metadata": {},
   "outputs": [
    {
     "name": "stdout",
     "output_type": "stream",
     "text": [
      "<class 'numpy.ndarray'>\n",
      "<class 'numpy.ndarray'>\n",
      "(379, 13)\n",
      "(379,)\n"
     ]
    }
   ],
   "source": [
    "from sklearn import model_selection\n",
    "X_train , X_test , Y_train , Y_test = model_selection.train_test_split(X , Y)\n",
    "print(type(X_train))\n",
    "print(type(Y_train))\n",
    "print(X_train.shape)\n",
    "print(Y_train.shape)"
   ]
  },
  {
   "cell_type": "code",
   "execution_count": 9,
   "metadata": {},
   "outputs": [],
   "source": [
    "from sklearn.linear_model import LinearRegression"
   ]
  },
  {
   "cell_type": "code",
   "execution_count": 10,
   "metadata": {},
   "outputs": [
    {
     "data": {
      "text/plain": [
       "LinearRegression(copy_X=True, fit_intercept=True, n_jobs=None, normalize=False)"
      ]
     },
     "execution_count": 10,
     "metadata": {},
     "output_type": "execute_result"
    }
   ],
   "source": [
    "algo1 = LinearRegression() ## algo is known as classifier\n",
    "algo2 = LinearRegression()\n",
    "algo1.fit(X_train , Y_train)"
   ]
  },
  {
   "cell_type": "code",
   "execution_count": 11,
   "metadata": {},
   "outputs": [
    {
     "data": {
      "text/plain": [
       "array([17.08868698, 29.90402618, 10.54203751, 32.28566141, 27.58518337,\n",
       "       11.48588795,  6.93738173, 22.42229996, 13.20636098, 26.50485363,\n",
       "       34.96214636, 24.86336544, 27.33381975, 22.72485847, 23.46709827,\n",
       "       23.95867692, 37.78032934, 42.7467985 , 11.00006546, 35.30595247,\n",
       "       16.734785  , 17.47510311, 14.5642645 , 30.37284021,  7.79938931,\n",
       "       27.68200059, 30.9312851 , 24.35767823, 30.90871276, 38.62683423,\n",
       "       27.12321806, 17.24791135, 35.73266381, 13.6145512 , 24.01839188,\n",
       "       14.94464721, 18.60175463, 24.92634362, 31.76321174, 34.78310674,\n",
       "       20.46520821, 27.37863478, 12.19739931, 29.53078254, 18.83956592,\n",
       "       18.77222153, 20.27489918, 19.67449853, 24.67676741, 14.26199302,\n",
       "       26.88124329, 14.0688553 , 32.3943062 , 18.07174957, 14.36128004,\n",
       "       14.09418238, 14.30098985, 13.34182177, 30.16076955, 34.52210171,\n",
       "       23.95556297, 19.46764817, 39.58817122, 33.89054816, 17.54419254,\n",
       "       23.89671546, 21.06582584, 25.32739069, 30.49105173, 43.66332152,\n",
       "       12.4156995 , 12.34156903, 20.37406615, 19.54808732, 19.29392284,\n",
       "       22.88241493, 21.02238089, 16.80792285, 20.72589292, 23.29343843,\n",
       "       21.46998368, 29.07148861, 11.42830016, 16.98849248, 18.13527626,\n",
       "       33.69385063, 25.92097824, 34.85766982, 33.16608902, 22.34999008,\n",
       "       20.80130202, 20.20488279, 33.3551044 , 20.01743904, 17.3187259 ,\n",
       "       28.47390978, 28.16879865, 21.81576576, 17.29130882, 26.00619784,\n",
       "       22.39608026,  8.9600743 , 18.62982979, 37.39603897, 34.32467362,\n",
       "       19.98016956, 14.48955555, 29.93224675, 22.13451052, 13.72871395,\n",
       "       31.6024602 , 21.52939932, 22.25010994, 17.21826889, 21.5864778 ,\n",
       "       24.53124476, 21.59146837, 14.02468397, 18.15000257, 28.79408901,\n",
       "       22.136066  , 28.33472628, 20.20232055, 18.78525396, 30.23639963,\n",
       "       34.7429634 , 20.24628451])"
      ]
     },
     "execution_count": 11,
     "metadata": {},
     "output_type": "execute_result"
    }
   ],
   "source": [
    "Y_pred = algo1.predict(X_test)\n",
    "Y_pred\n",
    "# compare Y_pred and T_test"
   ]
  },
  {
   "cell_type": "code",
   "execution_count": 14,
   "metadata": {},
   "outputs": [
    {
     "data": {
      "image/png": "[encoded data removed]",
      "text/plain": [
       "<Figure size 432x288 with 1 Axes>"
      ]
     },
     "metadata": {
      "needs_background": "light"
     },
     "output_type": "display_data"
    }
   ],
   "source": [
    "import matplotlib.pyplot as plt\n",
    "plt.scatter(Y_test , Y_pred)\n",
    "plt.axis([0 , 40 , 0 ,40])\n",
    "plt.show()"
   ]
  }
 ],
 "metadata": {
  "kernelspec": {
   "display_name": "Python 3",
   "language": "python",
   "name": "python3"
  },
  "language_info": {
   "codemirror_mode": {
    "name": "ipython",
    "version": 3
   },
   "file_extension": ".py",
   "mimetype": "text/x-python",
   "name": "python",
   "nbconvert_exporter": "python",
   "pygments_lexer": "ipython3",
   "version": "3.7.4"
  }
 },
 "nbformat": 4,
 "nbformat_minor": 2
}
