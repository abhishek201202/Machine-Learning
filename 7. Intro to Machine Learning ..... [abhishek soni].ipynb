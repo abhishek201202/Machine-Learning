{
 "cells": [
  {
   "cell_type": "markdown",
   "metadata": {},
   "source": [
    "#  1) AI (Artificial Intelligence)"
   ]
  },
  {
   "cell_type": "raw",
   "metadata": {},
   "source": [
    "=> lets some how make machine intelligent so that, they can take smart decission.\n",
    "   ex : smart home, smart car\n",
    "=> 2 ways to take decissions are :-)\n",
    "   a) As a programmer write some rules in the form of program for machine \n",
    "      so that they can take smart decission.\n",
    "   b) write programs in such a way that they can take decission on the basis \n",
    "      of previous occured events data."
   ]
  },
  {
   "cell_type": "markdown",
   "metadata": {},
   "source": [
    "## Rule based intelligence:"
   ]
  },
  {
   "cell_type": "raw",
   "metadata": {},
   "source": [
    "In computer science, a rule-based system is a set of \"if-then\" statements that uses a set of assertions, to which rules on how to act upon those assertions are created. Rule-based systems are also used in AI (artificial intelligence) programming and systems."
   ]
  },
  {
   "cell_type": "markdown",
   "metadata": {},
   "source": [
    "## Domains of AI:"
   ]
  },
  {
   "cell_type": "raw",
   "metadata": {},
   "source": [
    "=> machine learning\n",
    "=> Natural Language Processing\n",
    "=> Computer Vision tech\n",
    "=> Voice Recognition tech\n",
    "=> High precision motion sensing intelligent machine"
   ]
  },
  {
   "cell_type": "markdown",
   "metadata": {},
   "source": [
    "# 2) ML(Machine Learning)"
   ]
  },
  {
   "cell_type": "raw",
   "metadata": {},
   "source": [
    "=> It is a field of computer science that gives computer the ability to learn without being explicitly programmed.\n",
    "=> It is a subset of AI\n",
    "=> Examples\n",
    "   1) Web Domain :: ads, recommendation on website\n",
    "   2) Used by Oil Company :: pinpointing  exactly where to dig, IOT, to predict \n",
    "      operational outcomes, to improve subsurface characterisation.\n",
    "   3) Real World :: self driving car, smart home\n",
    "   4) Data Mining :: Practise of examining large pre existing database in order \n",
    "      to generate new information.\n",
    "   5) In HealthCare ::\n",
    "      a) heart disease diagnosis : automated heart disease diagnosis system.\n",
    "      b) Predicting diabetes : use to detect and stop it at early stages.\n",
    "      c) Prediction of liver Disease : to predict liver disease like - cirrhosis, \n",
    "         chronic hepatitis, liver cancer etc.\n",
    "      d) Robotics surgery : suturing, surgical skill evaluation, improvement of robotic \n",
    "         surgical materials, and surgical workflow modelling, as in neurosurgery robot are \n",
    "         not able to operate effectively.The manual workflow is time consuming, \n",
    "         and it can not provide automatic feedback. Using ML approach, it can speed up \n",
    "         the system.\n",
    "      e) Cancer Detection and Prediction : a study showed that deep learning reduces the \n",
    "         % of error for brest cancer diagnosis.\n",
    "      f) Personalized treatment : skinVision app (it is a app , one can check for skin \n",
    "         cancer on his/her phone)\n",
    "         \n",
    "      g) Drug discovery : used in drug discovery input mol. ====||====> molecular \n",
    "         properties                                      mol.training sets\n",
    "      h) Radiology : to speedup the detection process\n",
    "\n",
    "=> types of ml\n",
    "    1. supervised learning     : past experience that you have is labelled with \n",
    "                                 the output.ex:-) houes and their properties, \n",
    "                                 predicting type of tubour.\n",
    "    2. unsupervised learning   : try to find a pattern into the input the data set.\n",
    "                                 ex:-) cluster all people at fb into grps of their \n",
    "                                 similarity, in this case we don't know the output, \n",
    "                                 here input data is not clearly marked with the output.\n",
    "    3. Reinforcement learning  : it is same as how we train some thing. ex -\n",
    "                                 1 ) self driving car\n",
    "                                 2 ) train a chess game ... after playing a lots of game \n",
    "                                     software can able to decide which moves are good for \n",
    "                                     him and which not.\n",
    "\n",
    "    "
   ]
  },
  {
   "cell_type": "markdown",
   "metadata": {},
   "source": [
    "# 3) Supervised learning"
   ]
  },
  {
   "cell_type": "raw",
   "metadata": {},
   "source": [
    "=> given training data we have given output data as well.\n",
    "=> ex : Cortana or any speech automated system in your mobile phone\n",
    "       trains your voice and then starts working based on this training.\n",
    "=> types\n",
    "   #1 regression     : continuous spectrum of ouput is there.\n",
    "                       ex - house predicting system, in this case if a new house is come \n",
    "                       then its price may be of any range.\n",
    "                     : if we again decide whether this house has price\n",
    "                       price > 100000000\n",
    "                       100000 < price <= 100000000\n",
    "                       0 <= price <= 100000\n",
    "                       this is now become problem of classification but if we have to \n",
    "                       actually predict the price then it's the problem of regression.\n",
    "\n",
    "   #2 classification : output have some class.\n",
    "                       ex - given a set of images on which numbers are written from \n",
    "                       (0 to 9) , now if a new image is come we have to predict which \n",
    "                       number is written  on that."
   ]
  },
  {
   "cell_type": "markdown",
   "metadata": {},
   "source": [
    "## steps for supervised learning"
   ]
  },
  {
   "cell_type": "markdown",
   "metadata": {},
   "source": [
    "=> training data are given, in form of matrix  (m , n + 1)\n",
    "=> first n columns are features of that particular data \n",
    "=> (n+1) th column of the ith data is it's output. \n",
    "\n",
    "#1) find the data : from where do i get my data.\n",
    "    ex : for project's, for any company then it easily available from the company database.\n",
    "#2) Data loading and cleaning : if data is coming from two or more sources then we have \n",
    "     to clean those data which are present in one but not present in other dataset or \n",
    "     fill the data smartly.\n",
    "\n",
    "##### for cleaning we need to clean lots of strings , so best way of cleaning is to convert your string data into integer data as it is easy to handle.\n",
    "##### sometime we will be adding some new col into the combine dataset.\n",
    "\n",
    "#3) Train the algorithm\n",
    "    (X , Y) --> traing data --> goes for training into algorithm\n",
    "#4) testing\n",
    "    (X_test) --> goes for prediction into algorithm --> (Y_test)\n",
    "\n",
    "#### let say there are 100 data points for a project to be evaluated for u , but for now we are given with only 80 data points to make the algorithm and after that when we submit our algorithm this 20 data points will evaluate how good or bad is our algorithm ............so now that mean you have 80 data points with you to make algorithm ............... 1) divide data into two parts let say (56 + 24)..... 2) train your algorithm with this 56 data points and check with other 24  data points , if algo gives you the correct result for your 24 dataset then COOL !!!!!!!"
   ]
  },
  {
   "cell_type": "markdown",
   "metadata": {},
   "source": [
    "## A) Loading....... Boston Data and making its DataFrame with the help of pandas"
   ]
  },
  {
   "cell_type": "raw",
   "metadata": {},
   "source": [
    "we will be using SK (Scikit - Learn) Learn :- \n",
    "#1) this module provide's lots of various ML algorithm \n",
    "#2) datasets in sklearn is a package which contains lots of \n",
    "    ML algorithm and some datasets(boston) "
   ]
  },
  {
   "cell_type": "code",
   "execution_count": 1,
   "metadata": {},
   "outputs": [],
   "source": [
    "from sklearn import datasets"
   ]
  },
  {
   "cell_type": "code",
   "execution_count": 2,
   "metadata": {},
   "outputs": [
    {
     "data": {
      "text/plain": [
       "sklearn.utils.Bunch"
      ]
     },
     "execution_count": 2,
     "metadata": {},
     "output_type": "execute_result"
    }
   ],
   "source": [
    "boston = datasets.load_boston()\n",
    "X = boston.data\n",
    "Y = boston.target\n",
    "type(boston)"
   ]
  },
  {
   "cell_type": "code",
   "execution_count": 3,
   "metadata": {},
   "outputs": [
    {
     "data": {
      "text/plain": [
       "array([[6.3200e-03, 1.8000e+01, 2.3100e+00, ..., 1.5300e+01, 3.9690e+02,\n",
       "        4.9800e+00],\n",
       "       [2.7310e-02, 0.0000e+00, 7.0700e+00, ..., 1.7800e+01, 3.9690e+02,\n",
       "        9.1400e+00],\n",
       "       [2.7290e-02, 0.0000e+00, 7.0700e+00, ..., 1.7800e+01, 3.9283e+02,\n",
       "        4.0300e+00],\n",
       "       ...,\n",
       "       [6.0760e-02, 0.0000e+00, 1.1930e+01, ..., 2.1000e+01, 3.9690e+02,\n",
       "        5.6400e+00],\n",
       "       [1.0959e-01, 0.0000e+00, 1.1930e+01, ..., 2.1000e+01, 3.9345e+02,\n",
       "        6.4800e+00],\n",
       "       [4.7410e-02, 0.0000e+00, 1.1930e+01, ..., 2.1000e+01, 3.9690e+02,\n",
       "        7.8800e+00]])"
      ]
     },
     "execution_count": 3,
     "metadata": {},
     "output_type": "execute_result"
    }
   ],
   "source": [
    "X"
   ]
  },
  {
   "cell_type": "code",
   "execution_count": 4,
   "metadata": {},
   "outputs": [
    {
     "name": "stdout",
     "output_type": "stream",
     "text": [
      "<class 'numpy.ndarray'>\n"
     ]
    },
    {
     "data": {
      "text/plain": [
       "(506, 13)"
      ]
     },
     "execution_count": 4,
     "metadata": {},
     "output_type": "execute_result"
    }
   ],
   "source": [
    "print(type(X))\n",
    "X.shape"
   ]
  },
  {
   "cell_type": "code",
   "execution_count": 5,
   "metadata": {},
   "outputs": [
    {
     "name": "stdout",
     "output_type": "stream",
     "text": [
      "['CRIM' 'ZN' 'INDUS' 'CHAS' 'NOX' 'RM' 'AGE' 'DIS' 'RAD' 'TAX' 'PTRATIO'\n",
      " 'B' 'LSTAT']\n"
     ]
    },
    {
     "data": {
      "text/html": [
       "<div>\n",
       "<style scoped>\n",
       "    .dataframe tbody tr th:only-of-type {\n",
       "        vertical-align: middle;\n",
       "    }\n",
       "\n",
       "    .dataframe tbody tr th {\n",
       "        vertical-align: top;\n",
       "    }\n",
       "\n",
       "    .dataframe thead th {\n",
       "        text-align: right;\n",
       "    }\n",
       "</style>\n",
       "<table border=\"1\" class=\"dataframe\">\n",
       "  <thead>\n",
       "    <tr style=\"text-align: right;\">\n",
       "      <th></th>\n",
       "      <th>CRIM</th>\n",
       "      <th>ZN</th>\n",
       "      <th>INDUS</th>\n",
       "      <th>CHAS</th>\n",
       "      <th>NOX</th>\n",
       "      <th>RM</th>\n",
       "      <th>AGE</th>\n",
       "      <th>DIS</th>\n",
       "      <th>RAD</th>\n",
       "      <th>TAX</th>\n",
       "      <th>PTRATIO</th>\n",
       "      <th>B</th>\n",
       "      <th>LSTAT</th>\n",
       "    </tr>\n",
       "  </thead>\n",
       "  <tbody>\n",
       "    <tr>\n",
       "      <th>count</th>\n",
       "      <td>506.000000</td>\n",
       "      <td>506.000000</td>\n",
       "      <td>506.000000</td>\n",
       "      <td>506.000000</td>\n",
       "      <td>506.000000</td>\n",
       "      <td>506.000000</td>\n",
       "      <td>506.000000</td>\n",
       "      <td>506.000000</td>\n",
       "      <td>506.000000</td>\n",
       "      <td>506.000000</td>\n",
       "      <td>506.000000</td>\n",
       "      <td>506.000000</td>\n",
       "      <td>506.000000</td>\n",
       "    </tr>\n",
       "    <tr>\n",
       "      <th>mean</th>\n",
       "      <td>3.613524</td>\n",
       "      <td>11.363636</td>\n",
       "      <td>11.136779</td>\n",
       "      <td>0.069170</td>\n",
       "      <td>0.554695</td>\n",
       "      <td>6.284634</td>\n",
       "      <td>68.574901</td>\n",
       "      <td>3.795043</td>\n",
       "      <td>9.549407</td>\n",
       "      <td>408.237154</td>\n",
       "      <td>18.455534</td>\n",
       "      <td>356.674032</td>\n",
       "      <td>12.653063</td>\n",
       "    </tr>\n",
       "    <tr>\n",
       "      <th>std</th>\n",
       "      <td>8.601545</td>\n",
       "      <td>23.322453</td>\n",
       "      <td>6.860353</td>\n",
       "      <td>0.253994</td>\n",
       "      <td>0.115878</td>\n",
       "      <td>0.702617</td>\n",
       "      <td>28.148861</td>\n",
       "      <td>2.105710</td>\n",
       "      <td>8.707259</td>\n",
       "      <td>168.537116</td>\n",
       "      <td>2.164946</td>\n",
       "      <td>91.294864</td>\n",
       "      <td>7.141062</td>\n",
       "    </tr>\n",
       "    <tr>\n",
       "      <th>min</th>\n",
       "      <td>0.006320</td>\n",
       "      <td>0.000000</td>\n",
       "      <td>0.460000</td>\n",
       "      <td>0.000000</td>\n",
       "      <td>0.385000</td>\n",
       "      <td>3.561000</td>\n",
       "      <td>2.900000</td>\n",
       "      <td>1.129600</td>\n",
       "      <td>1.000000</td>\n",
       "      <td>187.000000</td>\n",
       "      <td>12.600000</td>\n",
       "      <td>0.320000</td>\n",
       "      <td>1.730000</td>\n",
       "    </tr>\n",
       "    <tr>\n",
       "      <th>25%</th>\n",
       "      <td>0.082045</td>\n",
       "      <td>0.000000</td>\n",
       "      <td>5.190000</td>\n",
       "      <td>0.000000</td>\n",
       "      <td>0.449000</td>\n",
       "      <td>5.885500</td>\n",
       "      <td>45.025000</td>\n",
       "      <td>2.100175</td>\n",
       "      <td>4.000000</td>\n",
       "      <td>279.000000</td>\n",
       "      <td>17.400000</td>\n",
       "      <td>375.377500</td>\n",
       "      <td>6.950000</td>\n",
       "    </tr>\n",
       "    <tr>\n",
       "      <th>50%</th>\n",
       "      <td>0.256510</td>\n",
       "      <td>0.000000</td>\n",
       "      <td>9.690000</td>\n",
       "      <td>0.000000</td>\n",
       "      <td>0.538000</td>\n",
       "      <td>6.208500</td>\n",
       "      <td>77.500000</td>\n",
       "      <td>3.207450</td>\n",
       "      <td>5.000000</td>\n",
       "      <td>330.000000</td>\n",
       "      <td>19.050000</td>\n",
       "      <td>391.440000</td>\n",
       "      <td>11.360000</td>\n",
       "    </tr>\n",
       "    <tr>\n",
       "      <th>75%</th>\n",
       "      <td>3.677083</td>\n",
       "      <td>12.500000</td>\n",
       "      <td>18.100000</td>\n",
       "      <td>0.000000</td>\n",
       "      <td>0.624000</td>\n",
       "      <td>6.623500</td>\n",
       "      <td>94.075000</td>\n",
       "      <td>5.188425</td>\n",
       "      <td>24.000000</td>\n",
       "      <td>666.000000</td>\n",
       "      <td>20.200000</td>\n",
       "      <td>396.225000</td>\n",
       "      <td>16.955000</td>\n",
       "    </tr>\n",
       "    <tr>\n",
       "      <th>max</th>\n",
       "      <td>88.976200</td>\n",
       "      <td>100.000000</td>\n",
       "      <td>27.740000</td>\n",
       "      <td>1.000000</td>\n",
       "      <td>0.871000</td>\n",
       "      <td>8.780000</td>\n",
       "      <td>100.000000</td>\n",
       "      <td>12.126500</td>\n",
       "      <td>24.000000</td>\n",
       "      <td>711.000000</td>\n",
       "      <td>22.000000</td>\n",
       "      <td>396.900000</td>\n",
       "      <td>37.970000</td>\n",
       "    </tr>\n",
       "  </tbody>\n",
       "</table>\n",
       "</div>"
      ],
      "text/plain": [
       "             CRIM          ZN       INDUS        CHAS         NOX          RM  \\\n",
       "count  506.000000  506.000000  506.000000  506.000000  506.000000  506.000000   \n",
       "mean     3.613524   11.363636   11.136779    0.069170    0.554695    6.284634   \n",
       "std      8.601545   23.322453    6.860353    0.253994    0.115878    0.702617   \n",
       "min      0.006320    0.000000    0.460000    0.000000    0.385000    3.561000   \n",
       "25%      0.082045    0.000000    5.190000    0.000000    0.449000    5.885500   \n",
       "50%      0.256510    0.000000    9.690000    0.000000    0.538000    6.208500   \n",
       "75%      3.677083   12.500000   18.100000    0.000000    0.624000    6.623500   \n",
       "max     88.976200  100.000000   27.740000    1.000000    0.871000    8.780000   \n",
       "\n",
       "              AGE         DIS         RAD         TAX     PTRATIO           B  \\\n",
       "count  506.000000  506.000000  506.000000  506.000000  506.000000  506.000000   \n",
       "mean    68.574901    3.795043    9.549407  408.237154   18.455534  356.674032   \n",
       "std     28.148861    2.105710    8.707259  168.537116    2.164946   91.294864   \n",
       "min      2.900000    1.129600    1.000000  187.000000   12.600000    0.320000   \n",
       "25%     45.025000    2.100175    4.000000  279.000000   17.400000  375.377500   \n",
       "50%     77.500000    3.207450    5.000000  330.000000   19.050000  391.440000   \n",
       "75%     94.075000    5.188425   24.000000  666.000000   20.200000  396.225000   \n",
       "max    100.000000   12.126500   24.000000  711.000000   22.000000  396.900000   \n",
       "\n",
       "            LSTAT  \n",
       "count  506.000000  \n",
       "mean    12.653063  \n",
       "std      7.141062  \n",
       "min      1.730000  \n",
       "25%      6.950000  \n",
       "50%     11.360000  \n",
       "75%     16.955000  \n",
       "max     37.970000  "
      ]
     },
     "execution_count": 5,
     "metadata": {},
     "output_type": "execute_result"
    }
   ],
   "source": [
    "import pandas as pd\n",
    "df = pd.DataFrame(X)\n",
    "print(boston.feature_names)\n",
    "df.columns = boston.feature_names\n",
    "df.describe()"
   ]
  },
  {
   "cell_type": "code",
   "execution_count": 6,
   "metadata": {},
   "outputs": [
    {
     "data": {
      "text/plain": [
       "\".. _boston_dataset:\\n\\nBoston house prices dataset\\n---------------------------\\n\\n**Data Set Characteristics:**  \\n\\n    :Number of Instances: 506 \\n\\n    :Number of Attributes: 13 numeric/categorical predictive. Median Value (attribute 14) is usually the target.\\n\\n    :Attribute Information (in order):\\n        - CRIM     per capita crime rate by town\\n        - ZN       proportion of residential land zoned for lots over 25,000 sq.ft.\\n        - INDUS    proportion of non-retail business acres per town\\n        - CHAS     Charles River dummy variable (= 1 if tract bounds river; 0 otherwise)\\n        - NOX      nitric oxides concentration (parts per 10 million)\\n        - RM       average number of rooms per dwelling\\n        - AGE      proportion of owner-occupied units built prior to 1940\\n        - DIS      weighted distances to five Boston employment centres\\n        - RAD      index of accessibility to radial highways\\n        - TAX      full-value property-tax rate per $10,000\\n        - PTRATIO  pupil-teacher ratio by town\\n        - B        1000(Bk - 0.63)^2 where Bk is the proportion of blacks by town\\n        - LSTAT    % lower status of the population\\n        - MEDV     Median value of owner-occupied homes in $1000's\\n\\n    :Missing Attribute Values: None\\n\\n    :Creator: Harrison, D. and Rubinfeld, D.L.\\n\\nThis is a copy of UCI ML housing dataset.\\nhttps://archive.ics.uci.edu/ml/machine-learning-databases/housing/\\n\\n\\nThis dataset was taken from the StatLib library which is maintained at Carnegie Mellon University.\\n\\nThe Boston house-price data of Harrison, D. and Rubinfeld, D.L. 'Hedonic\\nprices and the demand for clean air', J. Environ. Economics & Management,\\nvol.5, 81-102, 1978.   Used in Belsley, Kuh & Welsch, 'Regression diagnostics\\n...', Wiley, 1980.   N.B. Various transformations are used in the table on\\npages 244-261 of the latter.\\n\\nThe Boston house-price data has been used in many machine learning papers that address regression\\nproblems.   \\n     \\n.. topic:: References\\n\\n   - Belsley, Kuh & Welsch, 'Regression diagnostics: Identifying Influential Data and Sources of Collinearity', Wiley, 1980. 244-261.\\n   - Quinlan,R. (1993). Combining Instance-Based and Model-Based Learning. In Proceedings on the Tenth International Conference of Machine Learning, 236-243, University of Massachusetts, Amherst. Morgan Kaufmann.\\n\""
      ]
     },
     "execution_count": 6,
     "metadata": {},
     "output_type": "execute_result"
    }
   ],
   "source": [
    "boston.DESCR"
   ]
  },
  {
   "cell_type": "markdown",
   "metadata": {},
   "source": [
    "## B) Training of Algorithm"
   ]
  },
  {
   "cell_type": "raw",
   "metadata": {},
   "source": [
    "###### first split the data and then train\n",
    "###### splitting will done randomly , coz sometimes data could be in chronological order you might not predict the future trend with this data sets, so it better to split randomly"
   ]
  },
  {
   "cell_type": "code",
   "execution_count": 7,
   "metadata": {},
   "outputs": [
    {
     "name": "stdout",
     "output_type": "stream",
     "text": [
      "<class 'numpy.ndarray'>\n",
      "<class 'numpy.ndarray'>\n",
      "(379, 13)\n",
      "(379,)\n"
     ]
    }
   ],
   "source": [
    "from sklearn import model_selection\n",
    "X_train, X_test, Y_train, Y_test = model_selection.train_test_split(X, Y)\n",
    "print(type(X_train))\n",
    "print(type(Y_train))\n",
    "print(X_train.shape)\n",
    "print(Y_train.shape)"
   ]
  },
  {
   "cell_type": "code",
   "execution_count": 8,
   "metadata": {},
   "outputs": [],
   "source": [
    "from sklearn.linear_model import LinearRegression"
   ]
  },
  {
   "cell_type": "code",
   "execution_count": 9,
   "metadata": {},
   "outputs": [
    {
     "data": {
      "text/plain": [
       "LinearRegression(copy_X=True, fit_intercept=True, n_jobs=None, normalize=False)"
      ]
     },
     "execution_count": 9,
     "metadata": {},
     "output_type": "execute_result"
    }
   ],
   "source": [
    "algo1 = LinearRegression() ## algo is known as classifier\n",
    "algo2 = LinearRegression()\n",
    "algo1.fit(X_train , Y_train)"
   ]
  },
  {
   "cell_type": "code",
   "execution_count": 10,
   "metadata": {},
   "outputs": [
    {
     "data": {
      "text/plain": [
       "array([20.2244061 , 16.80812787,  9.72017638, -5.77991501, 19.97678722,\n",
       "        9.91918282, 13.9107631 , 22.3147504 , 29.26790133, 28.68019671,\n",
       "       17.81097759, 26.35913027, 28.2263412 , 22.78707271, 26.59866055,\n",
       "       20.92201663, 33.62671709, 22.75748584, 22.38247124, 27.04050149,\n",
       "        4.02271664, 25.2884358 , 23.12562228, 27.33503295, 21.41411099,\n",
       "       38.07776024, 33.41065399,  9.94650671, 21.10419634, 24.13840528,\n",
       "       19.74635304, 12.60271152, 16.97862937, 28.6723166 , 31.2905419 ,\n",
       "        4.32507275, 25.47746381, -0.72418786, 31.77864083, 33.781948  ,\n",
       "       18.77661966, 23.12201361, 13.35606904, 24.81373098, 13.88350541,\n",
       "       22.87255984, 27.04839457, 27.93038748, 23.32326139, 34.62541868,\n",
       "       33.57517611, 15.2797404 , 24.78880524,  5.25259518, 24.7545402 ,\n",
       "       31.15236286, 15.68489537, 14.97552977, 35.44251469, 18.50779452,\n",
       "       28.72393604, 24.59655553, 32.87547958, 20.61028628, 21.98712413,\n",
       "       37.58590512, 14.03998524, 29.0626233 , 36.92159728, 14.9301295 ,\n",
       "       27.75585061, 39.54417734, 13.18426541, 22.7024425 , 27.9516063 ,\n",
       "       12.86027757, 19.07217544, 21.55768079, 30.32437455, 21.45826196,\n",
       "        5.43490879, 18.98482031, 17.44408125, 16.18344983, 12.62852287,\n",
       "       13.05861514, 39.16510838, 33.39101865, 11.28194354, 17.71011643,\n",
       "       25.15488616, 22.03140453, 17.99658537, 13.25198072, 19.37987038,\n",
       "       30.77072562, 28.1129379 , 20.95540085, 24.58548008, 13.76187626,\n",
       "       20.77979985, 28.79306162, 17.17784334, 21.01935778, 20.85341063,\n",
       "       20.13164321, 20.59352025, 31.73329178, 15.08758483, 26.15047801,\n",
       "       24.11271854, 15.39031902, 21.77122606, 12.45203131, 16.99511435,\n",
       "       24.04595889,  5.47589932, 25.54058101, 39.7181501 , 16.55382968,\n",
       "       30.00666118, 30.73575609, 18.10181255, 15.62628297, 39.63272655,\n",
       "       16.08913886, 24.76377382])"
      ]
     },
     "execution_count": 10,
     "metadata": {},
     "output_type": "execute_result"
    }
   ],
   "source": [
    "Y_pred = algo1.predict(X_test)\n",
    "Y_pred\n",
    "# compare Y_pred and T_test"
   ]
  },
  {
   "cell_type": "code",
   "execution_count": 11,
   "metadata": {},
   "outputs": [
    {
     "data": {
      "image/png": "[encoded data removed]",
      "text/plain": [
       "<Figure size 432x288 with 1 Axes>"
      ]
     },
     "metadata": {
      "needs_background": "light"
     },
     "output_type": "display_data"
    }
   ],
   "source": [
    "import matplotlib.pyplot as plt\n",
    "plt.scatter(Y_test , Y_pred)\n",
    "plt.axis([0 , 40 , 0 ,40])\n",
    "plt.show()"
   ]
  }
 ],
 "metadata": {
  "kernelspec": {
   "display_name": "Python 3",
   "language": "python",
   "name": "python3"
  },
  "language_info": {
   "codemirror_mode": {
    "name": "ipython",
    "version": 3
   },
   "file_extension": ".py",
   "mimetype": "text/x-python",
   "name": "python",
   "nbconvert_exporter": "python",
   "pygments_lexer": "ipython3",
   "version": "3.7.6"
  }
 },
 "nbformat": 4,
 "nbformat_minor": 2
}
