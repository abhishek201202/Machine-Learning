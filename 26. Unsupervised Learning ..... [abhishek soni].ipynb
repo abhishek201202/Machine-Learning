{
 "cells": [
  {
   "cell_type": "markdown",
   "metadata": {},
   "source": [
    "### 1) Using KMeans from Sklearn"
   ]
  },
  {
   "cell_type": "code",
   "execution_count": 1,
   "metadata": {},
   "outputs": [],
   "source": [
    "import numpy as np\n",
    "import matplotlib.pyplot as plt"
   ]
  },
  {
   "cell_type": "code",
   "execution_count": 2,
   "metadata": {},
   "outputs": [
    {
     "data": {
      "text/plain": [
       "(numpy.ndarray, list, numpy.ndarray, array([[-1. ,  0. ],\n",
       "        [-0.5, -0.2],\n",
       "        [ 3. ,  6. ],\n",
       "        [ 6. ,  6. ],\n",
       "        [-1. , -1.4],\n",
       "        [ 7. ,  9. ]]))"
      ]
     },
     "execution_count": 2,
     "metadata": {},
     "output_type": "execute_result"
    }
   ],
   "source": [
    "# 2-D features\n",
    "x = np.array([[1 , 2] , [1.5 , 1.8] , [5 , 8] , [8 , 8] , [1 , 0.6] , [9 , 11]])\n",
    "y  = [1  , 2 , 3 , 4]\n",
    "list_to_np = np.array(y)\n",
    "## we do any mathmatical operation with a number and a array then that operation\n",
    "## will done on each and every element of the array\n",
    "type(x[: , 0 ]) , type(y) , type(list_to_np) , x - 2"
   ]
  },
  {
   "cell_type": "code",
   "execution_count": 3,
   "metadata": {},
   "outputs": [
    {
     "data": {
      "image/png": "[encoded data removed]",
      "text/plain": [
       "<Figure size 432x288 with 1 Axes>"
      ]
     },
     "metadata": {
      "needs_background": "light"
     },
     "output_type": "display_data"
    }
   ],
   "source": [
    "plt.scatter(x[ : , 0] , x[ : , 1])\n",
    "plt.show()"
   ]
  },
  {
   "cell_type": "code",
   "execution_count": 4,
   "metadata": {},
   "outputs": [],
   "source": [
    "from sklearn.cluster import KMeans"
   ]
  },
  {
   "cell_type": "code",
   "execution_count": 5,
   "metadata": {},
   "outputs": [],
   "source": [
    "## by default n_cluster  ==== >>> 8\n",
    "k_means = KMeans(n_clusters = 3)"
   ]
  },
  {
   "cell_type": "code",
   "execution_count": 6,
   "metadata": {},
   "outputs": [
    {
     "data": {
      "text/plain": [
       "KMeans(algorithm='auto', copy_x=True, init='k-means++', max_iter=300,\n",
       "       n_clusters=3, n_init=10, n_jobs=None, precompute_distances='auto',\n",
       "       random_state=None, tol=0.0001, verbose=0)"
      ]
     },
     "execution_count": 6,
     "metadata": {},
     "output_type": "execute_result"
    }
   ],
   "source": [
    "k_means.fit(x)\n",
    "### precompute_distance == >> basically cal all the pair of distances on \n",
    "### hand so that it will cal it again and again \n",
    "\n",
    "## init == >> k-means++ == >> it is an algorithm to pick first k cluster \n",
    "\n",
    "## n_init = 10 === >> how many time we want to reintialize the cluster\n",
    "## we can pass the initial mean values in this argument"
   ]
  },
  {
   "cell_type": "code",
   "execution_count": 7,
   "metadata": {},
   "outputs": [
    {
     "data": {
      "text/plain": [
       "array([0, 0, 1, 1, 0, 2])"
      ]
     },
     "execution_count": 7,
     "metadata": {},
     "output_type": "execute_result"
    }
   ],
   "source": [
    "k_means.labels_ ## which point went to which cluster"
   ]
  },
  {
   "cell_type": "code",
   "execution_count": 8,
   "metadata": {},
   "outputs": [
    {
     "data": {
      "text/plain": [
       "array([[ 1.16666667,  1.46666667],\n",
       "       [ 6.5       ,  8.        ],\n",
       "       [ 9.        , 11.        ]])"
      ]
     },
     "execution_count": 8,
     "metadata": {},
     "output_type": "execute_result"
    }
   ],
   "source": [
    "k_means.cluster_centers_"
   ]
  },
  {
   "cell_type": "code",
   "execution_count": 9,
   "metadata": {},
   "outputs": [
    {
     "data": {
      "image/png": "[encoded data removed]",
      "text/plain": [
       "<Figure size 432x288 with 1 Axes>"
      ]
     },
     "metadata": {
      "needs_background": "light"
     },
     "output_type": "display_data"
    }
   ],
   "source": [
    "plt.scatter(x[ : , 0] , x[ : , 1] , c = k_means.labels_)\n",
    "plt.scatter(k_means.cluster_centers_[ : , 0] , k_means.cluster_centers_[ : , 1])\n",
    "plt.show()\n",
    "## if we pass an array to color then it will deicde the color \n",
    "## corresponding to the val"
   ]
  },
  {
   "cell_type": "markdown",
   "metadata": {},
   "source": [
    "### 2) Starter Code for KMeans"
   ]
  },
  {
   "cell_type": "code",
   "execution_count": 10,
   "metadata": {},
   "outputs": [],
   "source": [
    "def fit(data , k = 2 , max_iter = 100):\n",
    "    means = []\n",
    "    # randomly initialize the means\n",
    "    for i in range(k):\n",
    "        means.append(data[i])\n",
    "    \n",
    "    for i in range(max_iter):\n",
    "        # assign the data points to the cluster that they belong to \n",
    "        ## create empty clusters\n",
    "        clusters = []\n",
    "        for j in range(k):\n",
    "            clusters.append([])\n",
    "        for point in data:\n",
    "            ### find the distance to all the mean values \n",
    "            distances = [((point - m) ** 2).sum() for m in means]\n",
    "            ### find the min distance \n",
    "            minDistance = min(distances)\n",
    "            ### find the mean for which we got the minimum distance === >> l\n",
    "            l = distances.index(minDistance)\n",
    "            ### add this point to cluster l\n",
    "            clusters[l].append(point)\n",
    "        \n",
    "        # calculate the new mean values\n",
    "        change = False\n",
    "        for j in range(k):\n",
    "            new_mean = np.average(clusters[j] , axis = 0)\n",
    "            if not np.array_equal(means[j] , new_mean):\n",
    "                change = True\n",
    "            means[j] = new_mean\n",
    "        if not change :\n",
    "            break\n",
    "    return means"
   ]
  },
  {
   "cell_type": "code",
   "execution_count": 11,
   "metadata": {},
   "outputs": [],
   "source": [
    "def predict(data , means):\n",
    "    predictions = []\n",
    "    for point in data:\n",
    "        distances = [((point - m) ** 2).sum() for m in means]\n",
    "        minDistance = min(distances)\n",
    "        l = distances.index(minDistance)\n",
    "        predictions.append(l)\n",
    "    return predictions"
   ]
  },
  {
   "cell_type": "code",
   "execution_count": 12,
   "metadata": {},
   "outputs": [],
   "source": [
    "means = fit(x)"
   ]
  },
  {
   "cell_type": "code",
   "execution_count": 13,
   "metadata": {},
   "outputs": [
    {
     "data": {
      "text/plain": [
       "[0, 0, 1, 1, 0, 1]"
      ]
     },
     "execution_count": 13,
     "metadata": {},
     "output_type": "execute_result"
    }
   ],
   "source": [
    "predict(x , means)"
   ]
  },
  {
   "cell_type": "markdown",
   "metadata": {},
   "source": [
    "### 3) Implementing KMeans Class"
   ]
  },
  {
   "cell_type": "code",
   "execution_count": 14,
   "metadata": {},
   "outputs": [],
   "source": [
    "class K_Means:\n",
    "    \n",
    "    means = []\n",
    "    k = 2\n",
    "    max_iter = 100\n",
    "    \n",
    "    def __init__(self , k = 2 , max_iter = 100):\n",
    "        print(\"Hey i am constructor\")\n",
    "        self.k = k\n",
    "        self.max_iter = max_iter\n",
    "    \n",
    "    \n",
    "    def fit(self , data):\n",
    "        # randomly initialize the means\n",
    "        for i in range(self.k):\n",
    "            self.means.append(data[i])\n",
    "\n",
    "        for i in range(self.max_iter):\n",
    "            # assign the data points to the cluster that they belong to \n",
    "            ## create empty clusters\n",
    "            clusters = []\n",
    "            for j in range(self.k):\n",
    "                clusters.append([])\n",
    "            for point in data:\n",
    "                ### find the distance to all the mean values \n",
    "                distances = [((point - m) ** 2).sum() for m in self.means]\n",
    "                ### find the min distance \n",
    "                minDistance = min(distances)\n",
    "                ### find the mean for which we got the minimum distance === >> l\n",
    "                l = distances.index(minDistance)\n",
    "                ### add this point to cluster l\n",
    "                clusters[l].append(point)\n",
    "\n",
    "            # calculate the new mean values\n",
    "            change = False\n",
    "            for j in range(self.k):\n",
    "                new_mean = np.average(clusters[j] , axis = 0)\n",
    "                if not np.array_equal(self.means[j] , new_mean):\n",
    "                    change = True\n",
    "                self.means[j] = new_mean\n",
    "            if not change :\n",
    "                break\n",
    "        return \n",
    "    \n",
    "    def predict(self , data):\n",
    "        predictions = []\n",
    "        for point in data:\n",
    "            distances = [((point - m) ** 2).sum() for m in self.means]\n",
    "            minDistance = min(distances)\n",
    "            l = distances.index(minDistance)\n",
    "            predictions.append(l)\n",
    "        return predictions\n"
   ]
  },
  {
   "cell_type": "code",
   "execution_count": 15,
   "metadata": {},
   "outputs": [
    {
     "name": "stdout",
     "output_type": "stream",
     "text": [
      "Hey i am constructor\n"
     ]
    }
   ],
   "source": [
    "kmeans = K_Means()"
   ]
  },
  {
   "cell_type": "code",
   "execution_count": 16,
   "metadata": {},
   "outputs": [],
   "source": [
    "kmeans.fit(x)"
   ]
  },
  {
   "cell_type": "code",
   "execution_count": 17,
   "metadata": {},
   "outputs": [
    {
     "data": {
      "text/plain": [
       "[0, 0, 1, 1, 0, 1]"
      ]
     },
     "execution_count": 17,
     "metadata": {},
     "output_type": "execute_result"
    }
   ],
   "source": [
    "kmeans.predict(x)"
   ]
  },
  {
   "cell_type": "code",
   "execution_count": 18,
   "metadata": {},
   "outputs": [
    {
     "data": {
      "text/plain": [
       "[array([1.16666667, 1.46666667]), array([7.33333333, 9.        ])]"
      ]
     },
     "execution_count": 18,
     "metadata": {},
     "output_type": "execute_result"
    }
   ],
   "source": [
    "kmeans.means"
   ]
  }
 ],
 "metadata": {
  "kernelspec": {
   "display_name": "Python 3",
   "language": "python",
   "name": "python3"
  },
  "language_info": {
   "codemirror_mode": {
    "name": "ipython",
    "version": 3
   },
   "file_extension": ".py",
   "mimetype": "text/x-python",
   "name": "python",
   "nbconvert_exporter": "python",
   "pygments_lexer": "ipython3",
   "version": "3.7.4"
  }
 },
 "nbformat": 4,
 "nbformat_minor": 2
}
