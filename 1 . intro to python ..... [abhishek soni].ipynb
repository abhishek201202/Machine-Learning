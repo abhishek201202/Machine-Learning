{
 "cells": [
  {
   "cell_type": "markdown",
   "metadata": {},
   "source": [
    "## 1) Print in Python"
   ]
  },
  {
   "cell_type": "code",
   "execution_count": 1,
   "metadata": {},
   "outputs": [
    {
     "name": "stdout",
     "output_type": "stream",
     "text": [
      "10\n",
      "10 13\n"
     ]
    }
   ],
   "source": [
    "print(10)\n",
    "a = 10 \n",
    "b = 13\n",
    "print(a , b)"
   ]
  },
  {
   "cell_type": "code",
   "execution_count": 2,
   "metadata": {},
   "outputs": [
    {
     "name": "stdout",
     "output_type": "stream",
     "text": [
      "darpokk pagal\n"
     ]
    }
   ],
   "source": [
    "print(\"darpokk\" , end = \" \")\n",
    "print(\"pagal\")"
   ]
  },
  {
   "cell_type": "code",
   "execution_count": 3,
   "metadata": {},
   "outputs": [
    {
     "name": "stdout",
     "output_type": "stream",
     "text": [
      "will be master soon "
     ]
    }
   ],
   "source": [
    "print(\"will be master soon\",end=\" \")"
   ]
  },
  {
   "cell_type": "code",
   "execution_count": 4,
   "metadata": {},
   "outputs": [
    {
     "name": "stdout",
     "output_type": "stream",
     "text": [
      "codeforces \n",
      "codechef "
     ]
    }
   ],
   "source": [
    "print(\"codeforces \\ncodechef\",end=\" \")"
   ]
  },
  {
   "cell_type": "code",
   "execution_count": 5,
   "metadata": {},
   "outputs": [
    {
     "name": "stdout",
     "output_type": "stream",
     "text": [
      "10 12\n",
      "12\n"
     ]
    }
   ],
   "source": [
    "# print function\n",
    "a=10\n",
    "print(a,end=\" \")\n",
    "print(12)\n",
    "print(12)"
   ]
  },
  {
   "cell_type": "code",
   "execution_count": 18,
   "metadata": {},
   "outputs": [
    {
     "name": "stdout",
     "output_type": "stream",
     "text": [
      "10\n",
      "20\n"
     ]
    },
    {
     "data": {
      "text/plain": [
       "15"
      ]
     },
     "execution_count": 18,
     "metadata": {},
     "output_type": "execute_result"
    }
   ],
   "source": [
    "a = 10\n",
    "b = 20\n",
    "print(a)\n",
    "print(b)\n",
    "a + 5    #  by default python print the result as an ouptut of last variable if write it there"
   ]
  },
  {
   "cell_type": "markdown",
   "metadata": {},
   "source": [
    "## 2) Variables"
   ]
  },
  {
   "cell_type": "code",
   "execution_count": 7,
   "metadata": {},
   "outputs": [
    {
     "name": "stdout",
     "output_type": "stream",
     "text": [
      "10\n",
      "12.345\n",
      "<class 'float'>\n",
      "(2+3j)\n"
     ]
    },
    {
     "data": {
      "text/plain": [
       "complex"
      ]
     },
     "execution_count": 7,
     "metadata": {},
     "output_type": "execute_result"
    }
   ],
   "source": [
    "a = 10\n",
    "print(a)\n",
    "a = 12.345\n",
    "print(a)\n",
    "print(type(a))\n",
    "a = 2 + 3j\n",
    "print(a)\n",
    "type(a)   # c++ mai kuch nahi hota "
   ]
  },
  {
   "cell_type": "code",
   "execution_count": 8,
   "metadata": {},
   "outputs": [
    {
     "name": "stdout",
     "output_type": "stream",
     "text": [
      "(2+3j)\n",
      "20\n"
     ]
    }
   ],
   "source": [
    "## we can use all the variables here \n",
    "## but the value depends on the execution of cells \n",
    "## value updated in the last cell will be the latest value of that \n",
    "## variable\n",
    "\n",
    "print(a) # here if the last executed cell was IN[18] ==== result is 10\n",
    "print(b)"
   ]
  },
  {
   "cell_type": "markdown",
   "metadata": {},
   "source": [
    "## 3) operators"
   ]
  },
  {
   "cell_type": "code",
   "execution_count": 9,
   "metadata": {},
   "outputs": [
    {
     "name": "stdout",
     "output_type": "stream",
     "text": [
      "(22+3j)\n",
      "a : 12\n",
      "b : 20\n",
      "c : 32\n",
      "32\n",
      "-8\n",
      "0.6\n",
      "0\n",
      "240\n",
      "144\n",
      "12\n"
     ]
    }
   ],
   "source": [
    "print(a + b)\n",
    "a = 12\n",
    "c = a + b\n",
    "print(\"a :\" , a)\n",
    "print(\"b :\" , b)\n",
    "print(\"c :\" , c)\n",
    "print(a + b)\n",
    "print(a - b)\n",
    "print(a / b)  # gives exact answer\n",
    "print(a // b) # for normal division like in c++ (floor division)\n",
    "print(a * b)\n",
    "print(a ** 2) # exponentiation\n",
    "print(a % b)"
   ]
  },
  {
   "cell_type": "markdown",
   "metadata": {},
   "source": [
    "## 4) Strings"
   ]
  },
  {
   "cell_type": "code",
   "execution_count": 10,
   "metadata": {},
   "outputs": [
    {
     "name": "stdout",
     "output_type": "stream",
     "text": [
      "red coder\n"
     ]
    }
   ],
   "source": [
    "a = \"red coder\"\n",
    "print(a)"
   ]
  },
  {
   "cell_type": "code",
   "execution_count": 11,
   "metadata": {},
   "outputs": [
    {
     "name": "stdout",
     "output_type": "stream",
     "text": [
      "string is : red coder\n",
      "length of the string : 9\n",
      "0th character is : r\n",
      "\n",
      "a + b = abcdefdef\n",
      "\n",
      "<class 'str'>\n",
      "\n"
     ]
    }
   ],
   "source": [
    "# typical string properties\n",
    "print(\"string is :\",a)\n",
    "print(\"length of the string :\" , len(a))\n",
    "print(\"0th character is :\",a[0])\n",
    "print(end=\"\\n\")\n",
    "\n",
    "# strings are immutable\n",
    "#  a[0] = 'a' # INVALID\n",
    "\n",
    "a = \"abc\"\n",
    "b = \"def\"\n",
    "a += b\n",
    "c = a + b\n",
    "print(\"a + b =\" ,c)\n",
    "print()\n",
    "\n",
    "\n",
    "# there is no charater in python , everything is string\n",
    "print(type('2'))\n",
    "print(end = \"\\n\")\n"
   ]
  },
  {
   "cell_type": "markdown",
   "metadata": {},
   "source": [
    "#### 4.1) Few functions of string in python"
   ]
  },
  {
   "cell_type": "code",
   "execution_count": 12,
   "metadata": {},
   "outputs": [
    {
     "name": "stdout",
     "output_type": "stream",
     "text": [
      "  Abc  \n",
      "a :   Abc  \n",
      "b :   ABC  \n",
      "  abc  \n",
      "\n",
      "Abc\n",
      "\n",
      "False\n",
      "True\n",
      "False\n",
      "Abc234\n",
      "False\n",
      "True\n"
     ]
    }
   ],
   "source": [
    "a = \"  Abc  \"\n",
    "\n",
    "# upper and lower\n",
    "b = a.upper(); # a will not change upper function will create a new string\n",
    "print(a)\n",
    "print(\"a :\" , a) \n",
    "print(\"b :\" , b)\n",
    "print(a.lower())\n",
    "print()\n",
    "\n",
    "# strip\n",
    "print(a.strip()) # remove all the spaces from the starting as well as from the end\n",
    "print()\n",
    "\n",
    "\n",
    "# isalpha , isdigit \n",
    "print(a.isalpha())\n",
    "a = a.strip()\n",
    "print(a.isalpha())\n",
    "print(a.isdigit())\n",
    "a = a + \"234\"\n",
    "print(a)\n",
    "print(a.isdigit())\n",
    "a = \"1234\"\n",
    "print(a.isdigit())"
   ]
  },
  {
   "cell_type": "markdown",
   "metadata": {},
   "source": [
    "## 5) User input"
   ]
  },
  {
   "cell_type": "code",
   "execution_count": 13,
   "metadata": {},
   "outputs": [
    {
     "name": "stdout",
     "output_type": "stream",
     "text": [
      "4545\n",
      "4545\n",
      "<class 'str'>\n",
      "4545\n",
      "4545\n",
      "<class 'int'>\n"
     ]
    }
   ],
   "source": [
    "a = input()\n",
    "print(a)\n",
    "print(type(a))\n",
    "\n",
    "# input function returns string\n",
    "a = int(input())\n",
    "print(a)\n",
    "print(type(a))\n"
   ]
  },
  {
   "cell_type": "markdown",
   "metadata": {},
   "source": [
    "## 6) Negative Indexing"
   ]
  },
  {
   "cell_type": "code",
   "execution_count": 14,
   "metadata": {},
   "outputs": [
    {
     "name": "stdout",
     "output_type": "stream",
     "text": [
      "a\n",
      "a\n"
     ]
    }
   ],
   "source": [
    "# n = 5\n",
    "# 0 1 2 3 4         # +ve indexing \n",
    "# -5 -4 -3 -2 -1    # -ve indexing \n",
    "\n",
    "s = \"abcde\"\n",
    "print(s[0])\n",
    "print(s[-5])"
   ]
  },
  {
   "cell_type": "markdown",
   "metadata": {},
   "source": [
    "## 7) Slicing in strings"
   ]
  },
  {
   "cell_type": "code",
   "execution_count": 15,
   "metadata": {},
   "outputs": [
    {
     "name": "stdout",
     "output_type": "stream",
     "text": [
      "abcde\n",
      "01234\n",
      "\n",
      "1:3 bc\n",
      "-4:-1 bcd\n",
      "\n",
      "cde\n",
      "abc\n",
      "abcde\n"
     ]
    }
   ],
   "source": [
    "# string [ start index  :  end index )\n",
    "# gives string from start_index to end_index - 1\n",
    "\n",
    "s = \"abcde\"\n",
    "print(s)\n",
    "print(\"01234\")\n",
    "print()\n",
    "print(\"1:3\" , s[1:3])\n",
    "print(\"-4:-1\" , s[-4:-1])\n",
    "print()\n",
    "print(s[2:])\n",
    "print(s[:3])\n",
    "print(s[:])\n"
   ]
  },
  {
   "cell_type": "markdown",
   "metadata": {},
   "source": [
    "## 8) Tuples"
   ]
  },
  {
   "cell_type": "code",
   "execution_count": 16,
   "metadata": {},
   "outputs": [
    {
     "name": "stdout",
     "output_type": "stream",
     "text": [
      "<class 'tuple'>\n",
      "(1, 0, 0)\n",
      "\n",
      "<class 'tuple'>\n",
      "(1, 0, 0)\n",
      "\n",
      "<class 'int'>\n",
      "1 2 2\n"
     ]
    }
   ],
   "source": [
    "abc = 1,0000,0       ### tuple\n",
    "print(type(abc))\n",
    "print(abc)\n",
    "print()\n",
    "\n",
    "# a b c = 1 2 3     ### invalid\n",
    "\n",
    "a_b_c = 1,00,00     ### tuple\n",
    "print(type(a_b_c))\n",
    "print(a_b_c)\n",
    "print()\n",
    "\n",
    "a,b,c = 1,2,2       ## this is not a tuple these are 3 integer variables\n",
    "print(type(a))\n",
    "print(a,b,c)"
   ]
  },
  {
   "cell_type": "code",
   "execution_count": 1,
   "metadata": {},
   "outputs": [
    {
     "name": "stdout",
     "output_type": "stream",
     "text": [
      "(1, 2, 3)\n",
      "1\n",
      "<class 'tuple'>\n",
      "\n",
      "t : (1, 'abc', 1.23)\n",
      "\n",
      "slice t : [0:2] == (1, 'abc')\n",
      "\n",
      "(1, 2, 'a', 'b')\n",
      "(1, 2, 1, 2)\n",
      "\n",
      "True\n",
      "False\n",
      "True\n",
      "2\n",
      "2\n"
     ]
    }
   ],
   "source": [
    "t = 1,2,3  \n",
    "t = (1,2,3)   # both are correct\n",
    "print(t)\n",
    "print(t[0])\n",
    "print(type(t))\n",
    "print()\n",
    "\n",
    "# these are immutable\n",
    "# t[1] = 3   ## invalid\n",
    "\n",
    "# can store different type of data type\n",
    "t = 1,\"abc\",1.23\n",
    "print(\"t :\" , t)\n",
    "print()\n",
    "\n",
    "# Slicing is valid on tuple\n",
    "print(\"slice t : [0:2] ==\" , t[0:2])\n",
    "print()\n",
    "\n",
    "# operators on tuples\n",
    "t = 1,2\n",
    "k = \"a\",\"b\"\n",
    "tk = t + k\n",
    "print(tk)\n",
    "print(t*2)\n",
    "print()\n",
    "\n",
    "print(1 in t)\n",
    "print(1 in k)\n",
    "print(1 in tk)\n",
    "\n",
    "print(max(t)) # only if all data of tuple are integer \n",
    "print(len(t))"
   ]
  }
 ],
 "metadata": {
  "kernelspec": {
   "display_name": "Python 3",
   "language": "python",
   "name": "python3"
  },
  "language_info": {
   "codemirror_mode": {
    "name": "ipython",
    "version": 3
   },
   "file_extension": ".py",
   "mimetype": "text/x-python",
   "name": "python",
   "nbconvert_exporter": "python",
   "pygments_lexer": "ipython3",
   "version": "3.7.4"
  }
 },
 "nbformat": 4,
 "nbformat_minor": 2
}
