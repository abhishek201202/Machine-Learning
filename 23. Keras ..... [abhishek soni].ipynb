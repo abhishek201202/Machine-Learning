{
 "cells": [
  {
   "cell_type": "markdown",
   "metadata": {},
   "source": [
    "# 1) keras models"
   ]
  },
  {
   "cell_type": "code",
   "execution_count": 1,
   "metadata": {},
   "outputs": [
    {
     "name": "stderr",
     "output_type": "stream",
     "text": [
      "Using TensorFlow backend.\n"
     ]
    }
   ],
   "source": [
    "from keras.models import Sequential\n",
    "from keras.layers import Dense"
   ]
  },
  {
   "cell_type": "code",
   "execution_count": 2,
   "metadata": {},
   "outputs": [],
   "source": [
    "## creating a model\n",
    "model = Sequential()"
   ]
  },
  {
   "cell_type": "markdown",
   "metadata": {},
   "source": [
    "# 2) Layers"
   ]
  },
  {
   "cell_type": "code",
   "execution_count": 3,
   "metadata": {},
   "outputs": [
    {
     "name": "stdout",
     "output_type": "stream",
     "text": [
      "WARNING:tensorflow:From C:\\Users\\User\\Anaconda3\\lib\\site-packages\\tensorflow_core\\python\\ops\\resource_variable_ops.py:1630: calling BaseResourceVariable.__init__ (from tensorflow.python.ops.resource_variable_ops) with constraint is deprecated and will be removed in a future version.\n",
      "Instructions for updating:\n",
      "If using Keras pass *_constraint arguments to layers.\n"
     ]
    }
   ],
   "source": [
    "layer1 = Dense(units = 32 , activation = \"relu\" , input_dim = 30)\n",
    "model.add(layer1)\n",
    "model.add(Dense(units = 16 , activation = \"relu\"))\n",
    "model.add(Dense(units = 1 , activation = \"sigmoid\"))"
   ]
  },
  {
   "cell_type": "raw",
   "metadata": {},
   "source": [
    "Activation Layer ===>>> This layer just applies the activation function to the output\n",
    "of the previous layer"
   ]
  },
  {
   "cell_type": "markdown",
   "metadata": {},
   "source": [
    "# 3) compiling the model"
   ]
  },
  {
   "cell_type": "code",
   "execution_count": 4,
   "metadata": {},
   "outputs": [
    {
     "name": "stdout",
     "output_type": "stream",
     "text": [
      "WARNING:tensorflow:From C:\\Users\\User\\Anaconda3\\lib\\site-packages\\tensorflow_core\\python\\ops\\nn_impl.py:183: where (from tensorflow.python.ops.array_ops) is deprecated and will be removed in a future version.\n",
      "Instructions for updating:\n",
      "Use tf.where in 2.0, which has the same broadcast rule as np.where\n"
     ]
    }
   ],
   "source": [
    "model.compile(optimizer = \"adam\" , loss = \"binary_crossentropy\" , metrics = [\"accuracy\"])\n",
    "# optimizer is complsory"
   ]
  },
  {
   "cell_type": "markdown",
   "metadata": {},
   "source": [
    "# 4) fitting training data keras"
   ]
  },
  {
   "cell_type": "code",
   "execution_count": 5,
   "metadata": {},
   "outputs": [],
   "source": [
    "from sklearn import datasets\n",
    "cancer = datasets.load_breast_cancer()\n",
    "from sklearn.model_selection import train_test_split\n",
    "\n",
    "x_train , x_test , y_train , y_test = train_test_split(cancer.data , cancer.target , test_size = 0.2 , random_state = 0)\n",
    "\n",
    "from sklearn.preprocessing import StandardScaler\n",
    "\n",
    "sc = StandardScaler()\n",
    "x_train = sc.fit_transform(x_train)\n",
    "x_test = sc.transform(x_test)"
   ]
  },
  {
   "cell_type": "code",
   "execution_count": 6,
   "metadata": {},
   "outputs": [
    {
     "name": "stdout",
     "output_type": "stream",
     "text": [
      "WARNING:tensorflow:From C:\\Users\\User\\Anaconda3\\lib\\site-packages\\keras\\backend\\tensorflow_backend.py:422: The name tf.global_variables is deprecated. Please use tf.compat.v1.global_variables instead.\n",
      "\n",
      "Train on 455 samples, validate on 114 samples\n",
      "Epoch 1/40\n",
      "455/455 [==============================] - 0s 865us/step - loss: 0.7193 - accuracy: 0.5187 - val_loss: 0.6137 - val_accuracy: 0.7018\n",
      "Epoch 2/40\n",
      "455/455 [==============================] - 0s 55us/step - loss: 0.5626 - accuracy: 0.7692 - val_loss: 0.4795 - val_accuracy: 0.8684\n",
      "Epoch 3/40\n",
      "455/455 [==============================] - 0s 57us/step - loss: 0.4512 - accuracy: 0.8901 - val_loss: 0.3892 - val_accuracy: 0.9211\n",
      "Epoch 4/40\n",
      "455/455 [==============================] - 0s 46us/step - loss: 0.3713 - accuracy: 0.9231 - val_loss: 0.3176 - val_accuracy: 0.9474\n",
      "Epoch 5/40\n",
      "455/455 [==============================] - 0s 66us/step - loss: 0.3076 - accuracy: 0.9473 - val_loss: 0.2618 - val_accuracy: 0.9474\n",
      "Epoch 6/40\n",
      "455/455 [==============================] - 0s 39us/step - loss: 0.2563 - accuracy: 0.9516 - val_loss: 0.2174 - val_accuracy: 0.9649\n",
      "Epoch 7/40\n",
      "455/455 [==============================] - 0s 61us/step - loss: 0.2146 - accuracy: 0.9560 - val_loss: 0.1851 - val_accuracy: 0.9649\n",
      "Epoch 8/40\n",
      "455/455 [==============================] - 0s 55us/step - loss: 0.1844 - accuracy: 0.9604 - val_loss: 0.1618 - val_accuracy: 0.9561\n",
      "Epoch 9/40\n",
      "455/455 [==============================] - 0s 39us/step - loss: 0.1618 - accuracy: 0.9626 - val_loss: 0.1446 - val_accuracy: 0.9561\n",
      "Epoch 10/40\n",
      "455/455 [==============================] - 0s 57us/step - loss: 0.1437 - accuracy: 0.9670 - val_loss: 0.1309 - val_accuracy: 0.9649\n",
      "Epoch 11/40\n",
      "455/455 [==============================] - 0s 46us/step - loss: 0.1299 - accuracy: 0.9692 - val_loss: 0.1195 - val_accuracy: 0.9737\n",
      "Epoch 12/40\n",
      "455/455 [==============================] - 0s 44us/step - loss: 0.1183 - accuracy: 0.9736 - val_loss: 0.1102 - val_accuracy: 0.9737\n",
      "Epoch 13/40\n",
      "455/455 [==============================] - 0s 55us/step - loss: 0.1087 - accuracy: 0.9758 - val_loss: 0.1029 - val_accuracy: 0.9737\n",
      "Epoch 14/40\n",
      "455/455 [==============================] - 0s 37us/step - loss: 0.1010 - accuracy: 0.9758 - val_loss: 0.0977 - val_accuracy: 0.9737\n",
      "Epoch 15/40\n",
      "455/455 [==============================] - 0s 42us/step - loss: 0.0940 - accuracy: 0.9780 - val_loss: 0.0930 - val_accuracy: 0.9737\n",
      "Epoch 16/40\n",
      "455/455 [==============================] - 0s 42us/step - loss: 0.0889 - accuracy: 0.9802 - val_loss: 0.0884 - val_accuracy: 0.9825\n",
      "Epoch 17/40\n",
      "455/455 [==============================] - 0s 55us/step - loss: 0.0841 - accuracy: 0.9802 - val_loss: 0.0838 - val_accuracy: 0.9825\n",
      "Epoch 18/40\n",
      "455/455 [==============================] - 0s 44us/step - loss: 0.0802 - accuracy: 0.9824 - val_loss: 0.0794 - val_accuracy: 0.9825\n",
      "Epoch 19/40\n",
      "455/455 [==============================] - 0s 50us/step - loss: 0.0767 - accuracy: 0.9824 - val_loss: 0.0764 - val_accuracy: 0.9825\n",
      "Epoch 20/40\n",
      "455/455 [==============================] - 0s 37us/step - loss: 0.0735 - accuracy: 0.9824 - val_loss: 0.0742 - val_accuracy: 0.9825\n",
      "Epoch 21/40\n",
      "455/455 [==============================] - 0s 42us/step - loss: 0.0708 - accuracy: 0.9846 - val_loss: 0.0714 - val_accuracy: 0.9825\n",
      "Epoch 22/40\n",
      "455/455 [==============================] - 0s 46us/step - loss: 0.0682 - accuracy: 0.9846 - val_loss: 0.0687 - val_accuracy: 0.9825\n",
      "Epoch 23/40\n",
      "455/455 [==============================] - 0s 57us/step - loss: 0.0661 - accuracy: 0.9824 - val_loss: 0.0670 - val_accuracy: 0.9825\n",
      "Epoch 24/40\n",
      "455/455 [==============================] - 0s 42us/step - loss: 0.0642 - accuracy: 0.9824 - val_loss: 0.0656 - val_accuracy: 0.9825\n",
      "Epoch 25/40\n",
      "455/455 [==============================] - 0s 39us/step - loss: 0.0624 - accuracy: 0.9846 - val_loss: 0.0635 - val_accuracy: 0.9825\n",
      "Epoch 26/40\n",
      "455/455 [==============================] - 0s 55us/step - loss: 0.0607 - accuracy: 0.9846 - val_loss: 0.0620 - val_accuracy: 0.9825\n",
      "Epoch 27/40\n",
      "455/455 [==============================] - 0s 42us/step - loss: 0.0591 - accuracy: 0.9846 - val_loss: 0.0609 - val_accuracy: 0.9825\n",
      "Epoch 28/40\n",
      "455/455 [==============================] - 0s 44us/step - loss: 0.0578 - accuracy: 0.9846 - val_loss: 0.0598 - val_accuracy: 0.9825\n",
      "Epoch 29/40\n",
      "455/455 [==============================] - 0s 50us/step - loss: 0.0565 - accuracy: 0.9846 - val_loss: 0.0590 - val_accuracy: 0.9825\n",
      "Epoch 30/40\n",
      "455/455 [==============================] - 0s 42us/step - loss: 0.0555 - accuracy: 0.9846 - val_loss: 0.0580 - val_accuracy: 0.9825\n",
      "Epoch 31/40\n",
      "455/455 [==============================] - 0s 37us/step - loss: 0.0542 - accuracy: 0.9846 - val_loss: 0.0571 - val_accuracy: 0.9825\n",
      "Epoch 32/40\n",
      "455/455 [==============================] - 0s 50us/step - loss: 0.0533 - accuracy: 0.9846 - val_loss: 0.0567 - val_accuracy: 0.9825\n",
      "Epoch 33/40\n",
      "455/455 [==============================] - 0s 46us/step - loss: 0.0526 - accuracy: 0.9846 - val_loss: 0.0574 - val_accuracy: 0.9825\n",
      "Epoch 34/40\n",
      "455/455 [==============================] - 0s 57us/step - loss: 0.0518 - accuracy: 0.9846 - val_loss: 0.0572 - val_accuracy: 0.9825\n",
      "Epoch 35/40\n",
      "455/455 [==============================] - 0s 68us/step - loss: 0.0507 - accuracy: 0.9846 - val_loss: 0.0585 - val_accuracy: 0.9825\n",
      "Epoch 36/40\n",
      "455/455 [==============================] - 0s 61us/step - loss: 0.0504 - accuracy: 0.9846 - val_loss: 0.0583 - val_accuracy: 0.9825\n",
      "Epoch 37/40\n",
      "455/455 [==============================] - 0s 44us/step - loss: 0.0495 - accuracy: 0.9846 - val_loss: 0.0565 - val_accuracy: 0.9825\n",
      "Epoch 38/40\n",
      "455/455 [==============================] - 0s 42us/step - loss: 0.0483 - accuracy: 0.9846 - val_loss: 0.0561 - val_accuracy: 0.9825\n",
      "Epoch 39/40\n",
      "455/455 [==============================] - 0s 66us/step - loss: 0.0472 - accuracy: 0.9846 - val_loss: 0.0553 - val_accuracy: 0.9825\n",
      "Epoch 40/40\n",
      "455/455 [==============================] - 0s 68us/step - loss: 0.0463 - accuracy: 0.9868 - val_loss: 0.0544 - val_accuracy: 0.9825\n"
     ]
    },
    {
     "data": {
      "text/plain": [
       "<keras.callbacks.callbacks.History at 0x20118002bc8>"
      ]
     },
     "execution_count": 6,
     "metadata": {},
     "output_type": "execute_result"
    }
   ],
   "source": [
    "model.fit(x_train , y_train , epochs = 40 , batch_size = 50 , validation_data = (x_test , y_test))"
   ]
  },
  {
   "cell_type": "markdown",
   "metadata": {},
   "source": [
    "# 5) Evaluation"
   ]
  },
  {
   "cell_type": "code",
   "execution_count": 7,
   "metadata": {},
   "outputs": [
    {
     "data": {
      "text/plain": [
       "array([[4.0225685e-03],\n",
       "       [9.4499373e-01],\n",
       "       [9.9849701e-01],\n",
       "       [9.7501040e-01],\n",
       "       [9.9970102e-01],\n",
       "       [9.9704134e-01],\n",
       "       [9.9924749e-01],\n",
       "       [9.9820054e-01],\n",
       "       [9.9982733e-01],\n",
       "       [9.9992442e-01],\n",
       "       [8.3483171e-01],\n",
       "       [8.9270461e-01],\n",
       "       [9.9992776e-01],\n",
       "       [6.2790352e-01],\n",
       "       [5.9097826e-01],\n",
       "       [3.0930638e-03],\n",
       "       [9.9982750e-01],\n",
       "       [3.2782555e-06],\n",
       "       [4.4524670e-05],\n",
       "       [0.0000000e+00],\n",
       "       [7.0172250e-03],\n",
       "       [4.8437119e-03],\n",
       "       [9.9409306e-01],\n",
       "       [9.9749261e-01],\n",
       "       [3.4812093e-04],\n",
       "       [9.9844408e-01],\n",
       "       [9.9984550e-01],\n",
       "       [6.0283840e-03],\n",
       "       [9.9663556e-01],\n",
       "       [1.5646219e-05],\n",
       "       [9.9981272e-01],\n",
       "       [1.6456842e-04],\n",
       "       [8.7470937e-01],\n",
       "       [4.3511391e-03],\n",
       "       [9.9998808e-01],\n",
       "       [1.6855896e-03],\n",
       "       [9.8599488e-01],\n",
       "       [1.0436475e-03],\n",
       "       [9.8653632e-01],\n",
       "       [4.4068694e-04],\n",
       "       [2.2025138e-02],\n",
       "       [9.9991226e-01],\n",
       "       [5.1811486e-02],\n",
       "       [9.9986172e-01],\n",
       "       [9.5262963e-01],\n",
       "       [0.0000000e+00],\n",
       "       [9.9999356e-01],\n",
       "       [9.5246994e-01],\n",
       "       [9.9753344e-01],\n",
       "       [6.9290400e-05],\n",
       "       [1.2153387e-04],\n",
       "       [3.8519651e-02],\n",
       "       [9.2685223e-05],\n",
       "       [9.9758941e-01],\n",
       "       [9.9642444e-01],\n",
       "       [9.9923730e-01],\n",
       "       [9.9841464e-01],\n",
       "       [9.9603587e-01],\n",
       "       [9.9425733e-01],\n",
       "       [5.9604645e-08],\n",
       "       [1.1482537e-03],\n",
       "       [1.2225509e-03],\n",
       "       [9.9990988e-01],\n",
       "       [9.9124199e-01],\n",
       "       [2.3704767e-04],\n",
       "       [9.1482967e-01],\n",
       "       [0.0000000e+00],\n",
       "       [5.6624413e-07],\n",
       "       [2.3245811e-06],\n",
       "       [9.9852949e-01],\n",
       "       [5.9468830e-01],\n",
       "       [5.7876110e-05],\n",
       "       [9.9819803e-01],\n",
       "       [1.2743667e-01],\n",
       "       [6.3180923e-06],\n",
       "       [9.6681619e-01],\n",
       "       [9.9992853e-01],\n",
       "       [9.6694463e-01],\n",
       "       [9.9951816e-01],\n",
       "       [9.9945462e-01],\n",
       "       [3.8128793e-03],\n",
       "       [0.0000000e+00],\n",
       "       [2.1487474e-05],\n",
       "       [9.9979949e-01],\n",
       "       [1.6802609e-02],\n",
       "       [9.9933779e-01],\n",
       "       [9.9982870e-01],\n",
       "       [9.9998003e-01],\n",
       "       [2.6741624e-04],\n",
       "       [0.0000000e+00],\n",
       "       [9.9997371e-01],\n",
       "       [2.2346064e-01],\n",
       "       [3.3682030e-01],\n",
       "       [4.8875809e-06],\n",
       "       [9.9773014e-01],\n",
       "       [9.9700415e-01],\n",
       "       [9.5367432e-07],\n",
       "       [9.7812307e-01],\n",
       "       [9.9284756e-01],\n",
       "       [9.9557936e-01],\n",
       "       [9.9999905e-01],\n",
       "       [9.9662656e-01],\n",
       "       [9.9137712e-01],\n",
       "       [7.9295731e-01],\n",
       "       [5.5760145e-05],\n",
       "       [9.9963468e-01],\n",
       "       [3.1888485e-06],\n",
       "       [9.4001317e-01],\n",
       "       [6.7144430e-01],\n",
       "       [4.9166253e-01],\n",
       "       [9.7970569e-01],\n",
       "       [1.2189150e-05],\n",
       "       [9.6697440e-05],\n",
       "       [9.5811933e-01]], dtype=float32)"
      ]
     },
     "execution_count": 7,
     "metadata": {},
     "output_type": "execute_result"
    }
   ],
   "source": [
    "predictions = model.predict(x_test)\n",
    "predictions"
   ]
  },
  {
   "cell_type": "code",
   "execution_count": 8,
   "metadata": {},
   "outputs": [
    {
     "name": "stdout",
     "output_type": "stream",
     "text": [
      "114/114 [==============================] - 0s 61us/step\n"
     ]
    },
    {
     "data": {
      "text/plain": [
       "[0.0544430158640209, 0.9824561476707458]"
      ]
     },
     "execution_count": 8,
     "metadata": {},
     "output_type": "execute_result"
    }
   ],
   "source": [
    "score = model.evaluate(x_test , y_test)\n",
    "score"
   ]
  },
  {
   "cell_type": "raw",
   "metadata": {},
   "source": [
    "diff b/w predict && evaluate\n",
    "Evaluate will find the predictions and compare thme with the actual truth\n",
    "wheras predict will only find the predictions "
   ]
  }
 ],
 "metadata": {
  "kernelspec": {
   "display_name": "Python 3",
   "language": "python",
   "name": "python3"
  },
  "language_info": {
   "codemirror_mode": {
    "name": "ipython",
    "version": 3
   },
   "file_extension": ".py",
   "mimetype": "text/x-python",
   "name": "python",
   "nbconvert_exporter": "python",
   "pygments_lexer": "ipython3",
   "version": "3.7.4"
  }
 },
 "nbformat": 4,
 "nbformat_minor": 2
}
